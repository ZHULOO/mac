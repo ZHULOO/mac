{
 "cells": [
  {
   "cell_type": "markdown",
   "metadata": {},
   "source": [
    "# Dagum基尼系数分解\n",
    "## 一、$G_{jj}$的计算\n",
    "+ 相当于第j个区域内的差异"
   ]
  },
  {
   "cell_type": "markdown",
   "metadata": {},
   "source": [
    "+ 读入并观察数据"
   ]
  },
  {
   "cell_type": "code",
   "execution_count": 1,
   "metadata": {
    "vscode": {
     "languageId": "r"
    }
   },
   "outputs": [
    {
     "ename": "SyntaxError",
     "evalue": "invalid syntax (2819972759.py, line 3)",
     "output_type": "error",
     "traceback": [
      "\u001b[0;36m  File \u001b[0;32m\"/var/folders/c3/v9vyjt054w74c1dndk4qf3jw0000gn/T/ipykernel_25267/2819972759.py\"\u001b[0;36m, line \u001b[0;32m3\u001b[0m\n\u001b[0;31m    haven::read_dta(\"gini.dta\") -> df\u001b[0m\n\u001b[0m          ^\u001b[0m\n\u001b[0;31mSyntaxError\u001b[0m\u001b[0;31m:\u001b[0m invalid syntax\n"
     ]
    }
   ],
   "source": [
    "library(dplyr) # distinct 和 count函数\n",
    "setwd(\"E:/MyGit/r/Gini\")\n",
    "haven::read_dta(\"gini.dta\") -> df\n",
    "df |> distinct(id) |> count()"
   ]
  },
  {
   "cell_type": "markdown",
   "metadata": {},
   "source": [
    "+ 先尝试分布计算"
   ]
  },
  {
   "cell_type": "code",
   "execution_count": 3,
   "metadata": {
    "vscode": {
     "languageId": "r"
    }
   },
   "outputs": [
    {
     "data": {
      "text/html": [
       "0.200425652812576"
      ],
      "text/latex": [
       "0.200425652812576"
      ],
      "text/markdown": [
       "0.200425652812576"
      ],
      "text/plain": [
       "[1] 0.2004257"
      ]
     },
     "metadata": {},
     "output_type": "display_data"
    }
   ],
   "source": [
    "df |> dplyr::filter(year == 2005) |> pull(6)  ->  index_2005\n",
    "\n",
    "purrr::map_dbl(index_2005,~abs(.x - index_2005) |> sum()) |> sum()  ->  delta_2005\n",
    "\n",
    "index_2005 |> mean() -> mean_2005\n",
    "\n",
    "delta_2005/(2*mean_2005*279*279)"
   ]
  },
  {
   "cell_type": "markdown",
   "metadata": {},
   "source": [
    "+ 定义函数实现上面的操作"
   ]
  },
  {
   "cell_type": "code",
   "execution_count": 4,
   "metadata": {
    "vscode": {
     "languageId": "r"
    }
   },
   "outputs": [
    {
     "data": {
      "text/html": [
       "0.200425652812576"
      ],
      "text/latex": [
       "0.200425652812576"
      ],
      "text/markdown": [
       "0.200425652812576"
      ],
      "text/plain": [
       "[1] 0.2004257"
      ]
     },
     "metadata": {},
     "output_type": "display_data"
    },
    {
     "data": {
      "text/html": [
       "0.138048273396783"
      ],
      "text/latex": [
       "0.138048273396783"
      ],
      "text/markdown": [
       "0.138048273396783"
      ],
      "text/plain": [
       "[1] 0.1380483"
      ]
     },
     "metadata": {},
     "output_type": "display_data"
    }
   ],
   "source": [
    "# 支持中文变量\n",
    "\n",
    "G_total <- function(数据,年份) {\n",
    "  数据 |> dplyr::filter(year == 年份) |> pull(6) -> index\n",
    "  \n",
    "  purrr::map_dbl(\n",
    "    index,\n",
    "    ~abs(.x - index) |> sum()\n",
    "  ) |> sum() -> numerator\n",
    "  \n",
    "  数据 |> dplyr::filter(year == 年份) |> \n",
    "    summarise(\n",
    "      n = n(),  # 取出个数，这里n==279\n",
    "      mean = mean(index),\n",
    "      denominator = 2*n*n*mean\n",
    "    ) |> pull(denominator) -> denominator\n",
    "  \n",
    "  return(numerator/denominator)\n",
    "}\n",
    "\n",
    "G_total(df,2005)\n",
    "G_total(df,2006)"
   ]
  },
  {
   "cell_type": "code",
   "execution_count": 5,
   "metadata": {
    "vscode": {
     "languageId": "r"
    }
   },
   "outputs": [
    {
     "data": {
      "text/html": [
       "<table class=\"dataframe\">\n",
       "<caption>A tibble: 15 × 2</caption>\n",
       "<thead>\n",
       "\t<tr><th scope=col>year</th><th scope=col>g</th></tr>\n",
       "\t<tr><th scope=col>&lt;dbl&gt;</th><th scope=col>&lt;dbl&gt;</th></tr>\n",
       "</thead>\n",
       "<tbody>\n",
       "\t<tr><td>2005</td><td>0.2004257</td></tr>\n",
       "\t<tr><td>2006</td><td>0.1380483</td></tr>\n",
       "\t<tr><td>2007</td><td>0.1447769</td></tr>\n",
       "\t<tr><td>2008</td><td>0.1461993</td></tr>\n",
       "\t<tr><td>2009</td><td>0.1535574</td></tr>\n",
       "\t<tr><td>2010</td><td>0.1435320</td></tr>\n",
       "\t<tr><td>2011</td><td>0.1497882</td></tr>\n",
       "\t<tr><td>2012</td><td>0.1470551</td></tr>\n",
       "\t<tr><td>2013</td><td>0.1308341</td></tr>\n",
       "\t<tr><td>2014</td><td>0.1339849</td></tr>\n",
       "\t<tr><td>2015</td><td>0.1390755</td></tr>\n",
       "\t<tr><td>2016</td><td>0.1339377</td></tr>\n",
       "\t<tr><td>2017</td><td>0.1411617</td></tr>\n",
       "\t<tr><td>2018</td><td>0.1475292</td></tr>\n",
       "\t<tr><td>2019</td><td>0.1454722</td></tr>\n",
       "</tbody>\n",
       "</table>\n"
      ],
      "text/latex": [
       "A tibble: 15 × 2\n",
       "\\begin{tabular}{ll}\n",
       " year & g\\\\\n",
       " <dbl> & <dbl>\\\\\n",
       "\\hline\n",
       "\t 2005 & 0.2004257\\\\\n",
       "\t 2006 & 0.1380483\\\\\n",
       "\t 2007 & 0.1447769\\\\\n",
       "\t 2008 & 0.1461993\\\\\n",
       "\t 2009 & 0.1535574\\\\\n",
       "\t 2010 & 0.1435320\\\\\n",
       "\t 2011 & 0.1497882\\\\\n",
       "\t 2012 & 0.1470551\\\\\n",
       "\t 2013 & 0.1308341\\\\\n",
       "\t 2014 & 0.1339849\\\\\n",
       "\t 2015 & 0.1390755\\\\\n",
       "\t 2016 & 0.1339377\\\\\n",
       "\t 2017 & 0.1411617\\\\\n",
       "\t 2018 & 0.1475292\\\\\n",
       "\t 2019 & 0.1454722\\\\\n",
       "\\end{tabular}\n"
      ],
      "text/markdown": [
       "\n",
       "A tibble: 15 × 2\n",
       "\n",
       "| year &lt;dbl&gt; | g &lt;dbl&gt; |\n",
       "|---|---|\n",
       "| 2005 | 0.2004257 |\n",
       "| 2006 | 0.1380483 |\n",
       "| 2007 | 0.1447769 |\n",
       "| 2008 | 0.1461993 |\n",
       "| 2009 | 0.1535574 |\n",
       "| 2010 | 0.1435320 |\n",
       "| 2011 | 0.1497882 |\n",
       "| 2012 | 0.1470551 |\n",
       "| 2013 | 0.1308341 |\n",
       "| 2014 | 0.1339849 |\n",
       "| 2015 | 0.1390755 |\n",
       "| 2016 | 0.1339377 |\n",
       "| 2017 | 0.1411617 |\n",
       "| 2018 | 0.1475292 |\n",
       "| 2019 | 0.1454722 |\n",
       "\n"
      ],
      "text/plain": [
       "   year g        \n",
       "1  2005 0.2004257\n",
       "2  2006 0.1380483\n",
       "3  2007 0.1447769\n",
       "4  2008 0.1461993\n",
       "5  2009 0.1535574\n",
       "6  2010 0.1435320\n",
       "7  2011 0.1497882\n",
       "8  2012 0.1470551\n",
       "9  2013 0.1308341\n",
       "10 2014 0.1339849\n",
       "11 2015 0.1390755\n",
       "12 2016 0.1339377\n",
       "13 2017 0.1411617\n",
       "14 2018 0.1475292\n",
       "15 2019 0.1454722"
      ]
     },
     "metadata": {},
     "output_type": "display_data"
    }
   ],
   "source": [
    "purrr::map_df(\n",
    "  unique(df$year),\n",
    "  ~tibble(\n",
    "    year = .x,\n",
    "    g = G_total(df,.x)\n",
    "  )\n",
    ") -> G\n",
    "\n",
    "G"
   ]
  }
 ],
 "metadata": {
  "interpreter": {
   "hash": "40d3a090f54c6569ab1632332b64b2c03c39dcf918b08424e98f38b5ae0af88f"
  },
  "kernelspec": {
   "display_name": "R",
   "language": "R",
   "name": "ir"
  },
  "language_info": {
   "codemirror_mode": {
    "name": "ipython",
    "version": 3
   },
   "file_extension": ".py",
   "mimetype": "text/x-python",
   "name": "R",
   "nbconvert_exporter": "python",
   "pygments_lexer": "ipython3",
   "version": "3.9.7"
  },
  "orig_nbformat": 4
 },
 "nbformat": 4,
 "nbformat_minor": 2
}
