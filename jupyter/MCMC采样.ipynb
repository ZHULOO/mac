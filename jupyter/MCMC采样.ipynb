{
 "cells": [
  {
   "cell_type": "markdown",
   "metadata": {},
   "source": [
    "# 三、 MCMC采样和M-H采样\n",
    "+ 在MCMC(二)马尔科夫链中我们讲到给定一个概率平稳分布𝜋, 很难直接找到对应的马尔科夫链状态转移矩阵𝑃。而只要解决这个问题，我们就可以找到一种通用的概率分布采样方法，进而用于蒙特卡罗模拟。本篇我们就讨论解决这个问题的办法：MCMC采样和它的易用版M-H采样。"
   ]
  },
  {
   "cell_type": "markdown",
   "metadata": {},
   "source": [
    "## 1. 马尔可夫链的细致平稳条件\n",
    "+ 在解决从平稳分布$\\pi$，找到对应马尔可夫链状态转移矩阵P之前，来看马尔可夫链细致平稳条件：\n",
    "+ 如果非周期马尔可夫链的状态转移矩阵P和概率分布$\\pi(x)$对于所有的i，j满足：\n",
    "$$\\pi(i)P(i,j)=\\pi(j)P(j,i) \\tag{1}$$\n",
    "+ 则称概率分布$\\pi(x)$是状态转移矩阵P的平稳分布"
   ]
  },
  {
   "cell_type": "markdown",
   "metadata": {},
   "source": [
    "+ 由细致平稳条件证明平稳分布：\n",
    "+ 对（1）式两边同时对i求和：\n",
    "$$\\displaystyle \\sum_{i=1}^{\\infty}\\pi(i)P(i,j) = \\sum_{i=1}^{\\infty}\\pi(j)P(j,i) = \\pi(j)\\sum_{i=1}^{\\infty}\\pi(j,i)=\\pi(j) \\tag{2}$$"
   ]
  },
  {
   "cell_type": "markdown",
   "metadata": {},
   "source": [
    "+ (2)式写成矩阵式，即："
   ]
  },
  {
   "cell_type": "markdown",
   "metadata": {},
   "source": [
    "$$\\displaystyle \\sum_{i=1}^{\\infty}\\pi(i)P(i,j) = \\begin{bmatrix} \\pi(1),\\pi(2),\\ldots,\\pi(i),\\cdots \\end{bmatrix} \\cdot \\begin{bmatrix} \\begin{array}{ccc:c:c}\n",
    "P_{11} & P_{12} & \\cdots & P_{1j} & \\cdots \\\\\n",
    "P_{21} & P_{22} & \\cdots & P_{2j} & \\cdots \\\\\n",
    "\\vdots & \\vdots & \\ddots & \\vdots & \\vdots \\\\\n",
    "P_{j1} & P_{j2} & \\cdots & P_{jj} & \\cdots \\\\\n",
    "P_{n1} & P_{n2} & \\cdots & P_{nj} & \\cdots \\\\\n",
    "\\end{array}\\end{bmatrix} = \\begin{bmatrix} \\pi'(1),\\pi'(2), \\cdots, \\pi'(j),\\cdots \\end{bmatrix} \\tag{3}$$"
   ]
  },
  {
   "cell_type": "markdown",
   "metadata": {},
   "source": [
    "$$\\pi P = \\pi \\tag{4}$$"
   ]
  },
  {
   "cell_type": "markdown",
   "metadata": {},
   "source": [
    "+ 仅仅从细致平稳条件还是很难找到合适的矩阵𝑃。比如我们的目标平稳分布是𝜋,随机找一个马尔科夫链状态转移矩阵𝑄,它是很难满足细致平稳条件的，即：\n",
    "$$\\pi(i)Q(i,j) \\neq \\pi(j)Q(j,i) \\tag{5} $$\n",
    "+ 那么如何使这个等式满足呢？下面我们来看MCMC采样如何解决这个问题。"
   ]
  },
  {
   "cell_type": "markdown",
   "metadata": {},
   "source": [
    "## 2. MCMC采样\n",
    "+ 可以对(5)式做一个改造，使细致平稳条件成立。方法是引入一个𝛼(𝑖,𝑗), 使上式可以取等号，即：\n",
    "$$\\pi(i)Q(i,j)\\alpha(i,j) = \\pi(j)Q(j,i)\\alpha(j,i) \\tag{6} $$"
   ]
  },
  {
   "cell_type": "markdown",
   "metadata": {},
   "source": [
    "+ 这样，我们就得到了我们的分布𝜋对应的马尔科夫链状态转移矩阵𝑃，满足：\n",
    "$$P(i,j) = Q(i,j)\\alpha(i,j) \\tag{7} $$"
   ]
  },
  {
   "cell_type": "markdown",
   "metadata": {},
   "source": [
    "+ 也就是说，我们的目标矩阵𝑃可以通过任意一个马尔科夫链状态转移矩阵𝑄乘以𝛼(𝑖,𝑗)得到。𝛼(𝑖,𝑗)我们一般称之为接受率。取值在[0,1]之间，可以理解为一个概率值。即目标矩阵𝑃可以通过任意一个马尔科夫链状态转移矩阵𝑄以一定的接受率获得。这个很像我们在MCMC(一)蒙特卡罗方法第4节讲到的接受-拒绝采样，那里是以一个常用分布通过一定的接受-拒绝概率得到一个非常见分布，这里是以一个常见的马尔科夫链状态转移矩阵𝑄通过一定的接受-拒绝概率得到目标转移矩阵𝑃,两者的解决问题思路是类似的。"
   ]
  },
  {
   "cell_type": "markdown",
   "metadata": {},
   "source": [
    "+ MCMC的采样过程:\n",
    "  + 1.输入我们任意选定的马尔科夫链状态转移矩阵𝑄，平稳分布𝜋(𝑥)，设定状态转移次数阈值$n_1$，需要的样本个数$n_2$;\n",
    "  + 2.从任意简单概率分布采样得到初始状态值$x_0$;\n",
    "  + 3.for 𝑡=0 to $n_1+n_2-1$: \n",
    "    + a、从条件概率分布$Q(x|x_t)$中采样得到样本$x_*$;\n",
    "    + b、从均匀分布采样$𝑢∼𝑢𝑛𝑖𝑓𝑜𝑟𝑚[0,1]$;\n",
    "    + c、如果$u<\\alpha(x_t,x_*) = \\pi(x_*)Q(x_*,x_t) $，则接受转移$x_t \\to x_*$，即$x_{t+1}=x_*$;\n",
    "    + d、否则不接受转移，即$x_{t+1} = x_t$.\n",
    "  + 样本集$(x_{n_1},x_{n_1+1},\\cdots,x_{n_1+n_2-1})$即为我们需要的平稳分布对应的样本集。"
   ]
  },
  {
   "cell_type": "markdown",
   "metadata": {},
   "source": [
    "## 3. M-H采样\n",
    "+ M-H采样是Metropolis-Hastings采样的简称，这个算法首先由Metropolis提出，被Hastings改进，因此被称之为Metropolis-Hastings采样或M-H采样\n",
    "+ M-H采样解决了我们上一节MCMC采样接受率过低的问题。"
   ]
  },
  {
   "cell_type": "markdown",
   "metadata": {},
   "source": [
    "+ 回顾MCMC采样的细致平稳条件：\n",
    "$$\\pi(i)Q(i,j)\\alpha(i,j) = \\pi(j)Q(j,i)\\alpha(j,i) \\tag{8} $$\n",
    "+ 如果$\\alpha(i,j)$太小，会容易拒绝，采样效率很低，但是等式两边同时扩大到较大的值先等于1，等式依然成立，提高了采样效率；"
   ]
  },
  {
   "cell_type": "markdown",
   "metadata": {},
   "source": [
    "$$\\pi(i)Q(i,j)\\times 0.1 = \\pi(j)Q(j,i)\\alpha(j,i) \\times 0.2 \\tag{9} $$\n",
    "+ (9)式两边同时扩大5倍依然成立，但是接受率却提高了5倍：\n",
    "$$\\pi(i)Q(i,j)\\times 0.5 = \\pi(j)Q(j,i)\\times 1 \\tag{10} $$\n",
    "+ (10)式稍做改进，令：\n",
    "$$\\alpha(i,j) = min\\{\\frac{\\pi(j)Q(j,i)}{\\pi(i)Q(i,j)},1\\} \\tag{11} $$"
   ]
  },
  {
   "cell_type": "markdown",
   "metadata": {},
   "source": [
    "+ 通过这个微小的改造，我们就得到了可以在实际应用中使用的M-H采样算法过程如下：\n",
    "  + 1. 输入我们任意选定的马尔科夫链状态转移矩阵𝑄，平稳分布𝜋(𝑥)，设定状态转移次数阈值$n_1$，需要的样本个数$n_2$;\n",
    "  + 2. 从任意简单概率分布采样得到初始状态值$x_0$;\n",
    "  + 3. for $t=0 \\to n_1+n_2-1$: \n",
    "    + a. 从条件概率分布$Q(x|x_t)$中采样得到样本$x_*$;\n",
    "    + b. 从均匀分布采样$u \\sim uniform(0,1)$;\n",
    "    + c. 如果$u<\\alpha(x_t,x_*) = min\\{\\frac{\\pi(x_*)Q(x_*,x_t)}{\\pi(x_t)Q(x_t,x_*)},1\\}$，则接受转移$x_t \\to x_*$，即$x_{t+1}=x_*$;\n",
    "    + d. 否则不接受转移，即$x_{t+1}=x_t$;\n",
    "  + 样本集$(x_{n_1},x_{n_2},\\cdots,x_{n_1+n_2-1})$即为我们需要的平稳分布对应的样本集。\n",
    "+ 很多时候，我们选择的马尔科夫链状态转移矩阵𝑄如果是对称的，即满足$Q(i,j)=Q(j,i)$，这时我们的接受率可以进一步简化为：\n",
    "$$\\alpha(x_t,x_*) = min\\{\\frac{\\pi(x_*)}{\\pi(x_t)},1\\} \\tag{12}$$"
   ]
  },
  {
   "cell_type": "markdown",
   "metadata": {},
   "source": [
    "## 4. M-H采样示例\n",
    "+ 在例子里，我们的目标平稳分布是一个均值3，标准差2的正态分布，而选择的马尔可夫链状态转移矩阵𝑄(𝑖,𝑗)的条件转移概率是以𝑖为均值,方差1的正态分布在位置𝑗的值。这个例子仅仅用来让大家加深对M-H采样过程的理解。毕竟一个普通的一维正态分布用不着去用M-H采样来获得样本。\n",
    "  + 平稳分布$\\pi(x)$即$x \\sim N(3, 2^2)$，从该分布中取样；\n",
    "  + 转移矩阵$Q(i,j)=Q(x_i,x_j)$的表示$x_i$转移到$x_j$的概率，即$x \\sim N(x_i,1)$的条件下$P(x = x_j)$值；\n",
    "    + 实例算法中$Q(x_t,x_*)$表示$x_t$转移到$x_*$的概率，即在$x \\sim N(x_t,1)$的条件下:\n",
    "$$Q(x_t,x_*)=P(x = x_*|x = x_t)=\\Phi(\\frac{x_*-x_t}{1}) \\tag{13}$$\n",
    "  + $Q(x_*|x_t) \\sim N(x_t,\\sigma^2)$，从$N(x_t,\\sigma^2)$中抽取$x_*$；\n",
    "    + 计算$\\alpha = \\frac{\\pi(x_*)}{\\pi(x_t)}$，$如果$u<\\alpha$，则接受，取$x_{t+1}=x_*$，此时假设的是$Q(i,j)$是对称的；\n",
    "    + 计算$\\alpha = \\frac{\\pi(x_*)Q(x_*,x_t)}{\\pi(x_t)Q(x_t,x_*)}$，$如果$u<\\alpha$，则接受，取$x_{t+1}=x_*$，此时$Q(i,j)$是一般化的；"
   ]
  },
  {
   "cell_type": "markdown",
   "metadata": {},
   "source": [
    "+ 代码如下：\n",
    "  + 简化的$\\alpha = \\frac{\\pi(x_*)}{\\pi(x_t)}$，此时假设的是$Q(x_t,x_*)=Q(x_*,x_t)$是对称的；"
   ]
  },
  {
   "cell_type": "code",
   "execution_count": 57,
   "metadata": {},
   "outputs": [
    {
     "data": {
      "image/png": "[encoded data removed]",
      "text/plain": [
       "<Figure size 432x288 with 1 Axes>"
      ]
     },
     "metadata": {
      "needs_background": "light"
     },
     "output_type": "display_data"
    }
   ],
   "source": [
    "import random\n",
    "import math\n",
    "from scipy.stats import norm\n",
    "from scipy.stats import expon\n",
    "from scipy.stats import uniform\n",
    "import matplotlib.pyplot as plt\n",
    "import seaborn as sns\n",
    "\n",
    "def prob(x):\n",
    "    y = norm.pdf(x, loc = 3,scale = 2)  # π(x)~N(3,4)\n",
    "    return y\n",
    "\n",
    "T = 5000\n",
    "pi = [0 for i in range(T)]\n",
    "sigma = 1\n",
    "t = 0\n",
    "while t < T - 1:\n",
    "    t = t + 1\n",
    "    pi_star = norm.rvs(loc = pi[t - 1], scale = sigma, size = 1, random_state = None) # norm.rvs抽取容量为size的N(loc,scale)的样本，此处Q(x*|xt)～N(xt,1),在xt的条件下抽出x*\n",
    "    alpha = min(1,prob(pi_star[0]) / prob(pi[t - 1])) # å = π(x*)/π(xt)\n",
    "    u = random.uniform(0, 1)\n",
    "    if u < alpha:\n",
    "        pi[t] = pi_star[0]\n",
    "    else:\n",
    "        pi[t] = pi[t - 1]\n",
    "\n",
    "# plt.scatter(pi,norm.pdf(pi, loc = 5, scale = 2))\n",
    "# plt.hist(pi, 50, color='red', alpha=0.7, density=True)\n",
    "sns.kdeplot(pi)\n",
    "plt.show()"
   ]
  },
  {
   "cell_type": "markdown",
   "metadata": {},
   "source": [
    "+ 完整的接受率：$\\alpha=\\frac{\\pi(x_*)Q(x_*,x_t)}{\\pi(x_t)Q(x_t,x_*)}$，$Q(x_t,x_*) = Q(x_*|x_t),\\quad x \\sim N(x_t,1)$"
   ]
  },
  {
   "cell_type": "code",
   "execution_count": 58,
   "metadata": {},
   "outputs": [
    {
     "name": "stdout",
     "output_type": "stream",
     "text": [
      "u = 2.9191541478549814 sd = 2.005742472663968\n"
     ]
    },
    {
     "data": {
      "image/png": "[encoded data removed]",
      "text/plain": [
       "<Figure size 432x288 with 1 Axes>"
      ]
     },
     "metadata": {
      "needs_background": "light"
     },
     "output_type": "display_data"
    }
   ],
   "source": [
    "import random\n",
    "import math\n",
    "import numpy as np\n",
    "from scipy.stats import norm\n",
    "from scipy.stats import expon\n",
    "from scipy.stats import uniform\n",
    "import matplotlib.pyplot as plt\n",
    "import seaborn as sns\n",
    "\n",
    "def prob_p(x):\n",
    "    y = norm.pdf(x, loc = 3,scale = 2)  # π(x)~N(3,4)\n",
    "    return y\n",
    "\n",
    "def prob_q(x,u):\n",
    "    y = norm.pdf(x, loc = u,scale = 1)  # q(u,x) = q(x|u)~N(u,1)\n",
    "    return y\n",
    "\n",
    "T = 10000\n",
    "pi = [0 for i in range(T)]\n",
    "t = 0\n",
    "while t < T - 1:\n",
    "    t = t + 1\n",
    "    pi_star = norm.rvs(loc = pi[t - 1], scale = 1, size = 1, random_state = None) \n",
    "    alpha = min(1,(prob_p(pi_star[0])*prob_q(pi[t-1],pi_star[0])) / (prob_p(pi[t - 1])*prob_q(pi_star[0],pi[t - 1]))) # å = π(x*)Q(x*,xt)/π(xt)Q(xt,x*)\n",
    "    u = random.uniform(0, 1)\n",
    "    if u < alpha:\n",
    "        pi[t] = pi_star[0]\n",
    "    else:\n",
    "        pi[t] = pi[t - 1]\n",
    "print(\"u =\", np.mean(pi),\"sd =\", np.std(pi))\n",
    "sns.kdeplot(pi)\n",
    "plt.show()"
   ]
  },
  {
   "cell_type": "markdown",
   "metadata": {},
   "source": [
    "+ 平稳分布为指数分布"
   ]
  },
  {
   "cell_type": "code",
   "execution_count": 61,
   "metadata": {},
   "outputs": [
    {
     "name": "stdout",
     "output_type": "stream",
     "text": [
      "u = 1.0174342109054395 sd = 1.040391399420437\n"
     ]
    },
    {
     "data": {
      "image/png": "[encoded data removed]",
      "text/plain": [
       "<Figure size 432x288 with 1 Axes>"
      ]
     },
     "metadata": {
      "needs_background": "light"
     },
     "output_type": "display_data"
    }
   ],
   "source": [
    "import random\n",
    "import math\n",
    "import numpy as np\n",
    "from scipy.stats import norm\n",
    "from scipy.stats import expon\n",
    "from scipy.stats import uniform\n",
    "import matplotlib.pyplot as plt\n",
    "import seaborn as sns\n",
    "\n",
    "def prob_p(x):\n",
    "    y = expon.pdf(x)\n",
    "    return y\n",
    "\n",
    "def prob_q(x,u):\n",
    "    y = norm.pdf(x, loc = u,scale = 1)  # q(u,x) = q(x|u)~N(u,1)\n",
    "    return y\n",
    "\n",
    "T = 5000\n",
    "pi = [0 for i in range(T)]\n",
    "t = 0\n",
    "while t < T - 1:\n",
    "    t = t + 1\n",
    "    pi_star = norm.rvs(loc = pi[t - 1], scale = 1, size = 1, random_state = None) \n",
    "    alpha = min(1,(prob_p(pi_star[0])*prob_q(pi[t-1],pi_star[0])) / (prob_p(pi[t - 1])*prob_q(pi_star[0],pi[t - 1]))) # å = π(x*)Q(x*,xt)/π(xt)Q(xt,x*)\n",
    "    u = random.uniform(0, 1)\n",
    "    if u < alpha:\n",
    "        pi[t] = pi_star[0]\n",
    "    else:\n",
    "        pi[t] = pi[t - 1]\n",
    "print(\"u =\", np.mean(pi),\"sd =\", np.std(pi))\n",
    "sns.kdeplot(pi)\n",
    "plt.show()"
   ]
  },
  {
   "cell_type": "markdown",
   "metadata": {},
   "source": [
    "+ 平稳分布为卡方分布"
   ]
  },
  {
   "cell_type": "code",
   "execution_count": 87,
   "metadata": {},
   "outputs": [
    {
     "name": "stdout",
     "output_type": "stream",
     "text": [
      "u = 2.377164486438232 sd = 2.063324541620767\n"
     ]
    },
    {
     "data": {
      "image/png": "[encoded data removed]",
      "text/plain": [
       "<Figure size 432x288 with 1 Axes>"
      ]
     },
     "metadata": {
      "needs_background": "light"
     },
     "output_type": "display_data"
    }
   ],
   "source": [
    "import random\n",
    "import math\n",
    "import numpy as np\n",
    "from scipy.stats import norm\n",
    "from scipy.stats import expon\n",
    "from scipy.stats import chi2\n",
    "from scipy.stats import uniform\n",
    "import matplotlib.pyplot as plt\n",
    "import seaborn as sns\n",
    "\n",
    "def prob_p(x):\n",
    "    y = chi2.pdf(x, df = 2)  # x(2)\n",
    "    return y\n",
    "\n",
    "T = 5000\n",
    "pi = [0 for i in range(T)]\n",
    "t = 0\n",
    "while t < T - 1:\n",
    "    t = t + 1\n",
    "    pi_star = norm.rvs(loc = pi[t - 1], scale = 1, size = 1, random_state = None) \n",
    "    alpha = min(1,prob_p(pi_star[0]) / prob_p(pi[t - 1]))\n",
    "    if u < alpha:\n",
    "        pi[t] = pi_star[0]\n",
    "    else:\n",
    "        pi[t] = pi[t - 1]\n",
    "print(\"u =\", np.mean(pi),\"sd =\", np.std(pi))\n",
    "sns.kdeplot(pi)\n",
    "plt.show()"
   ]
  },
  {
   "cell_type": "markdown",
   "metadata": {},
   "source": [
    "## 5. M-H采样总结\n",
    "+ M-H采样完整解决了使用蒙特卡罗方法需要的任意概率分布样本集的问题，因此在实际生产环境得到了广泛的应用。\n",
    "+ 但是在大数据时代，M-H采样面临着两大难题：\n",
    "  + 1. 我们的数据特征非常的多，M-H采样由于接受率计算式𝜋(𝑗)𝑄(𝑗,𝑖)𝜋(𝑖)𝑄(𝑖,𝑗)的存在，在高维时需要的计算时间非常的可观，算法效率很低。同时𝛼(𝑖,𝑗)一般小于1，有时候辛苦计算出来却被拒绝了。能不能做到不拒绝转移呢？\n",
    "  + 2. 由于特征维度大，很多时候我们甚至很难求出目标的各特征维度联合分布，但是可以方便求出各个特征之间的条件概率分布。这时候我们能不能只有各维度之间条件概率分布的情况下方便的采样呢？\n",
    "+ Gibbs采样解决了上面两个问题，因此在大数据时代，MCMC采样基本是Gibbs采样的天下，下一篇我们就来讨论Gibbs采样。"
   ]
  },
  {
   "cell_type": "code",
   "execution_count": 118,
   "metadata": {},
   "outputs": [
    {
     "name": "stdout",
     "output_type": "stream",
     "text": [
      "[1.99342831] [1, 1.9934283060224653]\n",
      "[1.7168997] [1, 1.9934283060224653, 1.7168997036800961]\n",
      "[1.24859295] [1, 1.9934283060224653, 1.7168997036800961, 1.2485929542334242]\n",
      "[0.78031904] [1, 1.9934283060224653, 1.7168997036800961, 1.2485929542334242, 0.780319040335063]\n",
      "[3.93874467] [1, 1.9934283060224653, 1.7168997036800961, 1.2485929542334242, 0.780319040335063, 3.9387446713498457]\n",
      "[5.47361413] [1, 1.9934283060224653, 1.7168997036800961, 1.2485929542334242, 0.780319040335063, 3.9387446713498457, 3.9387446713498457]\n",
      "[2.9997959] [1, 1.9934283060224653, 1.7168997036800961, 1.2485929542334242, 0.780319040335063, 3.9387446713498457, 3.9387446713498457, 2.9997958994799414]\n",
      "[4.08491599] [1, 1.9934283060224653, 1.7168997036800961, 1.2485929542334242, 0.780319040335063, 3.9387446713498457, 3.9387446713498457, 2.9997958994799414, 4.084915986651871]\n",
      "[4.56884053] [1, 1.9934283060224653, 1.7168997036800961, 1.2485929542334242, 0.780319040335063, 3.9387446713498457, 3.9387446713498457, 2.9997958994799414, 4.084915986651871, 4.568840529783939]\n",
      "[0.74228004] [1, 1.9934283060224653, 1.7168997036800961, 1.2485929542334242, 0.780319040335063, 3.9387446713498457, 3.9387446713498457, 2.9997958994799414, 4.084915986651871, 4.568840529783939, 0.7422800404683434]\n"
     ]
    },
    {
     "data": {
      "image/png": "[encoded data removed]",
      "text/plain": [
       "<Figure size 432x288 with 1 Axes>"
      ]
     },
     "metadata": {
      "needs_background": "light"
     },
     "output_type": "display_data"
    }
   ],
   "source": [
    "import numpy as np\n",
    "import matplotlib.pyplot as plt\n",
    "from scipy import stats\n",
    "np.random.seed(42)\n",
    "# 正态分布\n",
    "x_=np.linspace(-20,20,100)\n",
    "y_=stats.norm.pdf(x_,0,5)# 正态分布\n",
    "# y_=stats.expon(scale=1).pdf(x_)# 指数分布\n",
    "\n",
    "# 采样数10000\n",
    "Samp_Num=10\n",
    "result=[]\n",
    "init=1\n",
    "result.append(init)\n",
    "# p=lambda r:stats.expon(scale=1).pdf(r)# 指数分布\n",
    "p=lambda r:stats.norm.pdf(r,0,5) # 正态分布\n",
    "# 生成均值为v,标准差为2的正态分布的1个样本\n",
    "q=lambda v:stats.norm.rvs(loc = v,scale = 2, size = 1)\n",
    "\n",
    "for i in range(Samp_Num):\n",
    "    y=q(result[i])# 从分布q(y|x_t)中随机采样一个样本点\n",
    "    alpha=min(1,p(y)/p(result[i]))# 接受概率(简化)\n",
    "    u=np.random.rand(1)# 从uniform(0,1)中采样\n",
    "    if u<alpha:\n",
    "        result.append(y[0])# 接受\n",
    "    else:\n",
    "        result.append(result[i])# 拒绝\n",
    "    print(y,result)\n",
    "\n",
    "plt.hist(result, 50, density=1, facecolor='blue', alpha=0.5)\n",
    "plt.plot(x_,y_)\n",
    "plt.show()\n"
   ]
  },
  {
   "cell_type": "code",
   "execution_count": 117,
   "metadata": {},
   "outputs": [
    {
     "data": {
      "text/plain": [
       "<AxesSubplot:>"
      ]
     },
     "execution_count": 117,
     "metadata": {},
     "output_type": "execute_result"
    },
    {
     "data": {
      "image/png": "[encoded data removed]",
      "text/plain": [
       "<Figure size 432x288 with 1 Axes>"
      ]
     },
     "metadata": {
      "needs_background": "light"
     },
     "output_type": "display_data"
    }
   ],
   "source": [
    "x1 = np.linspace(-20,20,100)\n",
    "p=lambda x : -2*x*x+2*x+3\n",
    "y1=p(x1)\n",
    "sns.scatterplot(x=x1,y=y1)"
   ]
  }
 ],
 "metadata": {
  "kernelspec": {
   "display_name": "Python 3.9.10 ('geo')",
   "language": "python",
   "name": "python3"
  },
  "language_info": {
   "codemirror_mode": {
    "name": "ipython",
    "version": 3
   },
   "file_extension": ".py",
   "mimetype": "text/x-python",
   "name": "python",
   "nbconvert_exporter": "python",
   "pygments_lexer": "ipython3",
   "version": "3.9.10"
  },
  "orig_nbformat": 4,
  "vscode": {
   "interpreter": {
    "hash": "037f9c9fb1937728a17c634c929e5b70e1d57e7eb01fba9ce1f1d953d6845e8b"
   }
  }
 },
 "nbformat": 4,
 "nbformat_minor": 2
}
