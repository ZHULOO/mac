{
 "cells": [
  {
   "cell_type": "markdown",
   "id": "fd70cacf",
   "metadata": {},
   "source": [
    "# DEA"
   ]
  },
  {
   "cell_type": "markdown",
   "id": "ddd9e932",
   "metadata": {},
   "source": [
    "## 学习DEA"
   ]
  },
  {
   "cell_type": "code",
   "execution_count": 2,
   "id": "3856bed7",
   "metadata": {},
   "outputs": [
    {
     "name": "stderr",
     "output_type": "stream",
     "text": [
      "also installing the dependency 'igraph'\n",
      "\n",
      "\n"
     ]
    },
    {
     "name": "stdout",
     "output_type": "stream",
     "text": [
      "\n",
      "  There are binary versions available but the source versions are later:\n",
      "       binary source needs_compilation\n",
      "igraph  1.2.7  1.2.8              TRUE\n",
      "deaR    1.2.3  1.2.4             FALSE\n",
      "\n",
      "  Binaries will be installed\n",
      "package 'igraph' successfully unpacked and MD5 sums checked\n",
      "\n",
      "The downloaded binary packages are in\n",
      "\tC:\\Users\\Administrator\\AppData\\Local\\Temp\\Rtmpuq8duO\\downloaded_packages\n"
     ]
    },
    {
     "name": "stderr",
     "output_type": "stream",
     "text": [
      "installing the source package 'deaR'\n",
      "\n",
      "\n"
     ]
    }
   ],
   "source": [
    "install.packages(\"deaR\")"
   ]
  },
  {
   "cell_type": "code",
   "execution_count": 3,
   "id": "25f49a27",
   "metadata": {},
   "outputs": [],
   "source": [
    "library(\"deaR\")"
   ]
  },
  {
   "cell_type": "code",
   "execution_count": null,
   "id": "a840c24c",
   "metadata": {},
   "outputs": [],
   "source": []
  }
 ],
 "metadata": {
  "kernelspec": {
   "display_name": "R",
   "language": "R",
   "name": "ir"
  },
  "language_info": {
   "codemirror_mode": "r",
   "file_extension": ".r",
   "mimetype": "text/x-r-source",
   "name": "R",
   "pygments_lexer": "r",
   "version": "4.0.3"
  }
 },
 "nbformat": 4,
 "nbformat_minor": 5
}
