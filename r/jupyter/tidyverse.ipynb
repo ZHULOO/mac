{
 "cells": [
  {
   "cell_type": "markdown",
   "metadata": {},
   "source": [
    "# R数据整理[tidyverse](https://github.com/tidyverse)\n",
    "+ readr\n",
    "+ dplyr\n",
    "+ ggplot2\n",
    "+ purrr\n",
    "+ magrittr\n",
    "+ tidyr \n"
   ]
  },
  {
   "cell_type": "markdown",
   "metadata": {},
   "source": [
    "## 一、几种基本函数"
   ]
  },
  {
   "cell_type": "code",
   "execution_count": null,
   "metadata": {
    "vscode": {
     "languageId": "r"
    }
   },
   "outputs": [],
   "source": [
    "# install.packages(c(\"nycflights13\", \"gapminder\", \"Lahman\"))\n",
    "library(tidyverse)\n",
    "library(ggplot2)\n",
    "mpg <- data(mpg)"
   ]
  },
  {
   "cell_type": "markdown",
   "metadata": {},
   "source": [
    "+ 五个基本函数：可以解决主要的数据处理挑战\n",
    "  + 第一个参数是data frame\n",
    "  + 接下来的参数是描述如何操作，使用变量名不必带引号\n",
    "  + 结果依然是data frame"
   ]
  },
  {
   "cell_type": "code",
   "execution_count": 2,
   "metadata": {
    "vscode": {
     "languageId": "r"
    }
   },
   "outputs": [],
   "source": [
    "# filter()    依靠值选择观测\n",
    "# arrange()   对行进行排序\n",
    "# select()    依靠列名选择变量\n",
    "# mutate()    使用函数生成新的变量\n",
    "# summarize() 描述\n",
    "# 和group_by()配合使用,通过组改变函数操作的对象范围"
   ]
  },
  {
   "cell_type": "markdown",
   "metadata": {},
   "source": [
    "+ `filter`按行选择观测值"
   ]
  },
  {
   "cell_type": "code",
   "execution_count": 3,
   "metadata": {
    "vscode": {
     "languageId": "r"
    }
   },
   "outputs": [],
   "source": [
    "filter(flights, month == 1, day == 1) -> jan1\n",
    "dec <- filter(flights,month == 12, day == 25)\n"
   ]
  },
  {
   "cell_type": "markdown",
   "metadata": {},
   "source": [
    "+ 比较运算符\n",
    "  + =, >, >=, <, <=, !=, =="
   ]
  },
  {
   "cell_type": "markdown",
   "metadata": {},
   "source": [
    "+ 逻辑运算符\n",
    "<img src=\"https://d33wubrfki0l68.cloudfront.net/01f4b6d39d2be8269740a3ad7946faa79f7243cf/8369a/diagrams/transform-logical.png\" width=\"50%\" height=\"50%\" align=\"center\" />"
   ]
  },
  {
   "cell_type": "code",
   "execution_count": null,
   "metadata": {
    "vscode": {
     "languageId": "r"
    }
   },
   "outputs": [],
   "source": [
    "df <- tibble(x = c(1,NA,3))\n",
    "# filter支持多种逻辑判断删选:\n",
    "filter(df,x>1)\n",
    "filter(df,is.na(x) | x > 1)\n",
    "filter(flights, !(arr_delay > 120 | dep_delay > 120))\n",
    "filter(flights, arr_delay <= 120, dep_delay <= 120)"
   ]
  },
  {
   "cell_type": "markdown",
   "metadata": {},
   "source": [
    "+ 缺失值 `NA`(Not Avaiables)\n",
    "+ `is.na(x)`：判断是否是缺失值\n",
    "+ `NA`会传染,接触就会被同化"
   ]
  },
  {
   "cell_type": "code",
   "execution_count": 5,
   "metadata": {
    "vscode": {
     "languageId": "r"
    }
   },
   "outputs": [
    {
     "data": {
      "text/html": [
       "&lt;NA&gt;"
      ],
      "text/latex": [
       "<NA>"
      ],
      "text/markdown": [
       "&lt;NA&gt;"
      ],
      "text/plain": [
       "[1] NA"
      ]
     },
     "metadata": {},
     "output_type": "display_data"
    },
    {
     "data": {
      "text/html": [
       "&lt;NA&gt;"
      ],
      "text/latex": [
       "<NA>"
      ],
      "text/markdown": [
       "&lt;NA&gt;"
      ],
      "text/plain": [
       "[1] NA"
      ]
     },
     "metadata": {},
     "output_type": "display_data"
    },
    {
     "data": {
      "text/html": [
       "&lt;NA&gt;"
      ],
      "text/latex": [
       "<NA>"
      ],
      "text/markdown": [
       "&lt;NA&gt;"
      ],
      "text/plain": [
       "[1] NA"
      ]
     },
     "metadata": {},
     "output_type": "display_data"
    },
    {
     "data": {
      "text/html": [
       "&lt;NA&gt;"
      ],
      "text/latex": [
       "<NA>"
      ],
      "text/markdown": [
       "&lt;NA&gt;"
      ],
      "text/plain": [
       "[1] NA"
      ]
     },
     "metadata": {},
     "output_type": "display_data"
    }
   ],
   "source": [
    "NA > 5\n",
    "10 == NA\n",
    "NA/2\n",
    "X <- NA\n",
    "Y <- NA\n",
    "X == Y\n"
   ]
  },
  {
   "cell_type": "markdown",
   "metadata": {},
   "source": [
    "+ `arrange`排序"
   ]
  },
  {
   "cell_type": "code",
   "execution_count": null,
   "metadata": {
    "vscode": {
     "languageId": "r"
    }
   },
   "outputs": [],
   "source": [
    "arrange(flights, year, month, day) # 默认升序\n",
    "arrange(flights, desc(dep_delay))  # 降序\n",
    "df <- tibble(x = c(5, 2, NA))\n",
    "arrange(df, x)                     # 缺失值永远被排在最后"
   ]
  },
  {
   "cell_type": "markdown",
   "metadata": {},
   "source": [
    "+ `select`按列选择"
   ]
  },
  {
   "cell_type": "code",
   "execution_count": null,
   "metadata": {
    "vscode": {
     "languageId": "r"
    }
   },
   "outputs": [],
   "source": [
    "select(flights, year, month, day)\n",
    "select(flights, year:day)           # 选中year与day之间的列\n",
    "select(flights, -(year:day))        # 选中除了year与day之间的列\n"
   ]
  },
  {
   "cell_type": "markdown",
   "metadata": {},
   "source": [
    "+ 还有多种条件语句可用\n",
    "  + `starts_with(\"abc\")`\n",
    "  + `ends_with(\"xyz\")`\n",
    "  + `contains(\"ijk\")`\n",
    "  + `matches(\"(.)\\\\1\")`: selects variables that match a regular expression. \n",
    "  + `num_range(\"x\", 1:3)`: matches x1, x2 and x3.\n"
   ]
  },
  {
   "cell_type": "code",
   "execution_count": null,
   "metadata": {
    "vscode": {
     "languageId": "r"
    }
   },
   "outputs": [],
   "source": [
    "rename(flights, tail_num = tailnum)                # Select()可用于重命名变量，但它很少有用，因为它会删除所有未显式提到的变量。相反，使用rename()，这是select()的一个变体，它保留所有没有显式提到的变量;\n",
    "select(flights, time_hour, air_time, everything()) # time_hour, air_time移动到开头;\n",
    "select(flights, contains(\"TIME\"))                  # 包含time的变量;"
   ]
  },
  {
   "cell_type": "markdown",
   "metadata": {},
   "source": [
    "+ `mutate`增加变量"
   ]
  },
  {
   "cell_type": "code",
   "execution_count": null,
   "metadata": {
    "vscode": {
     "languageId": "r"
    }
   },
   "outputs": [],
   "source": [
    "flights_sml <- select(flights, \n",
    "  year:day, \n",
    "  ends_with(\"delay\"), \n",
    "  distance, \n",
    "  air_time\n",
    ")\n",
    "mutate(flights_sml,\n",
    "  gain = dep_delay - arr_delay,\n",
    "  speed = distance / air_time * 60\n",
    ")\n",
    "mutate(flights_sml,\n",
    "  gain = dep_delay - arr_delay,\n",
    "  hours = air_time / 60,\n",
    "  gain_per_hour = gain / hours\n",
    ")\n",
    "transmute(flights,               # 近保留增加的新变量\n",
    "  gain = dep_delay - arr_delay, \n",
    "  hours = air_time / 60,\n",
    "  gain_per_hour = gain / hours\n",
    ")\n"
   ]
  },
  {
   "cell_type": "markdown",
   "metadata": {},
   "source": [
    "+ 配合使用多种运算符\n",
    "+ %/% (integer division) 正除\n",
    "+ %% (remainder)         求余\n",
    "+ x == y * (x %/% y) + (x %% y)."
   ]
  },
  {
   "cell_type": "code",
   "execution_count": null,
   "metadata": {
    "vscode": {
     "languageId": "r"
    }
   },
   "outputs": [],
   "source": [
    "transmute(flights,\n",
    "  dep_time,\n",
    "  hour = dep_time %/% 100,\n",
    "  minute = dep_time %% 100\n",
    ")\n"
   ]
  },
  {
   "cell_type": "markdown",
   "metadata": {},
   "source": [
    "+ `summarize`分组总结\n",
    "  + 直接使用没多大用处\n",
    "  + 配合`group_by将会发挥强大功能"
   ]
  },
  {
   "cell_type": "code",
   "execution_count": 11,
   "metadata": {
    "vscode": {
     "languageId": "r"
    }
   },
   "outputs": [
    {
     "data": {
      "text/html": [
       "<table class=\"dataframe\">\n",
       "<caption>A tibble: 1 × 1</caption>\n",
       "<thead>\n",
       "\t<tr><th scope=col>delay</th></tr>\n",
       "\t<tr><th scope=col>&lt;dbl&gt;</th></tr>\n",
       "</thead>\n",
       "<tbody>\n",
       "\t<tr><td>12.63907</td></tr>\n",
       "</tbody>\n",
       "</table>\n"
      ],
      "text/latex": [
       "A tibble: 1 × 1\n",
       "\\begin{tabular}{l}\n",
       " delay\\\\\n",
       " <dbl>\\\\\n",
       "\\hline\n",
       "\t 12.63907\\\\\n",
       "\\end{tabular}\n"
      ],
      "text/markdown": [
       "\n",
       "A tibble: 1 × 1\n",
       "\n",
       "| delay &lt;dbl&gt; |\n",
       "|---|\n",
       "| 12.63907 |\n",
       "\n"
      ],
      "text/plain": [
       "  delay   \n",
       "1 12.63907"
      ]
     },
     "metadata": {},
     "output_type": "display_data"
    }
   ],
   "source": [
    "summarise(flights, delay = mean(dep_delay, na.rm = TRUE))\n"
   ]
  },
  {
   "cell_type": "code",
   "execution_count": null,
   "metadata": {
    "vscode": {
     "languageId": "r"
    }
   },
   "outputs": [],
   "source": [
    "by_day <- group_by(flights, year, month, day)\n",
    "summarise(by_day, delay = mean(dep_delay, na.rm = TRUE))"
   ]
  },
  {
   "cell_type": "markdown",
   "metadata": {},
   "source": [
    "  + 配合管道符"
   ]
  },
  {
   "cell_type": "code",
   "execution_count": 13,
   "metadata": {
    "vscode": {
     "languageId": "r"
    }
   },
   "outputs": [
    {
     "name": "stderr",
     "output_type": "stream",
     "text": [
      "`geom_smooth()` using method = 'loess' and formula 'y ~ x'\n",
      "\n"
     ]
    },
    {
     "data": {
      "image/png": "[encoded data removed]",
      "text/plain": [
       "plot without title"
      ]
     },
     "metadata": {
      "image/png": {
       "height": 420,
       "width": 420
      }
     },
     "output_type": "display_data"
    }
   ],
   "source": [
    "by_dest <- group_by(flights, dest)\n",
    "delay <- summarise(by_dest,\n",
    "  count = n(),                            # 描述的过程中生成的一些变量;\n",
    "  dist = mean(distance, na.rm = TRUE),\n",
    "  delay = mean(arr_delay, na.rm = TRUE)\n",
    ") # 将这些结果赋值给一个新df,命名为delay,仅包含新生成的变量和分组的变量；\n",
    "\n",
    "delay <- filter(delay, count > 20, dest != \"HNL\")\n",
    "\n",
    "# It looks like delays increase with distance up to ~750 miles \n",
    "# and then decrease. Maybe as flights get longer there's more \n",
    "# ability to make up delays in the air?\n",
    "ggplot(data = delay, mapping = aes(x = dist, y = delay)) +\n",
    "  geom_point(aes(size = count), alpha = 1/3) +\n",
    "  geom_smooth(se = FALSE)\n",
    "#> `geom_smooth()` using method = 'loess' and formula 'y ~ x'"
   ]
  },
  {
   "cell_type": "markdown",
   "metadata": {},
   "source": [
    "+ 上面的代码读起来有些费解,使用管道符,更简洁并且易理解"
   ]
  },
  {
   "cell_type": "code",
   "execution_count": 14,
   "metadata": {
    "vscode": {
     "languageId": "r"
    }
   },
   "outputs": [],
   "source": [
    "delays <- flights %>% \n",
    "  group_by(dest) %>% \n",
    "  summarise(\n",
    "    count = n(),\n",
    "    dist = mean(distance, na.rm = TRUE),\n",
    "    delay = mean(arr_delay, na.rm = TRUE)\n",
    "  ) %>% \n",
    "  filter(count > 20, dest != \"HNL\")\n"
   ]
  },
  {
   "cell_type": "markdown",
   "metadata": {},
   "source": [
    "+ x `%>%` f(y) turns into f(x, y), \n",
    "+ x `%>%` f(y) `%>%` g(z) turns into g(f(x, y), z)"
   ]
  },
  {
   "cell_type": "code",
   "execution_count": null,
   "metadata": {
    "vscode": {
     "languageId": "r"
    }
   },
   "outputs": [],
   "source": [
    "# flights %>% group_by(year,month,day) %>% summarise(mean = mean(dep_delay))\n",
    "# 有一个缺失值,结果全部是缺失值\n",
    "flights %>% group_by(year,month,day) %>% summarise(mean = mean(dep_delay,na.rm = TRUE))"
   ]
  },
  {
   "cell_type": "code",
   "execution_count": 16,
   "metadata": {
    "vscode": {
     "languageId": "r"
    }
   },
   "outputs": [
    {
     "name": "stderr",
     "output_type": "stream",
     "text": [
      "\u001b[1m\u001b[22m`summarise()` has grouped output by 'year', 'month'. You can override using the\n",
      "`.groups` argument.\n"
     ]
    },
    {
     "data": {
      "image/png": "[encoded data removed]",
      "text/plain": [
       "plot without title"
      ]
     },
     "metadata": {
      "image/png": {
       "height": 420,
       "width": 420
      }
     },
     "output_type": "display_data"
    }
   ],
   "source": [
    "not_cancelled <- flights %>% \n",
    "  filter(!is.na(dep_delay), !is.na(arr_delay))\n",
    "\n",
    "not_cancelled %>% \n",
    "  group_by(year, month, day) %>% \n",
    "  summarise(mean = mean(dep_delay))  -> group_year \n",
    "\n",
    "\n",
    "delays <- not_cancelled %>% \n",
    "  group_by(tailnum) %>% \n",
    "  summarise(\n",
    "    delay = mean(arr_delay)\n",
    "  )\n",
    "ggplot(data = delays, mapping = aes(x = delay)) + \n",
    "  geom_freqpoly(binwidth = 10)\n"
   ]
  },
  {
   "cell_type": "markdown",
   "metadata": {},
   "source": [
    "## 二、命令编程和函数式编程\n",
    "+ 可以用更少的代码，更少的bug解决迭代问题"
   ]
  },
  {
   "cell_type": "code",
   "execution_count": 2,
   "metadata": {
    "vscode": {
     "languageId": "r"
    }
   },
   "outputs": [
    {
     "name": "stderr",
     "output_type": "stream",
     "text": [
      "-- \u001b[1mAttaching packages\u001b[22m --------------------------------------- tidyverse 1.3.1 --\n",
      "\n",
      "\u001b[32mv\u001b[39m \u001b[34mggplot2\u001b[39m 3.3.5     \u001b[32mv\u001b[39m \u001b[34mpurrr  \u001b[39m 0.3.4\n",
      "\u001b[32mv\u001b[39m \u001b[34mtibble \u001b[39m 3.1.6     \u001b[32mv\u001b[39m \u001b[34mdplyr  \u001b[39m 1.0.8\n",
      "\u001b[32mv\u001b[39m \u001b[34mtidyr  \u001b[39m 1.2.0     \u001b[32mv\u001b[39m \u001b[34mstringr\u001b[39m 1.4.0\n",
      "\u001b[32mv\u001b[39m \u001b[34mreadr  \u001b[39m 2.1.2     \u001b[32mv\u001b[39m \u001b[34mforcats\u001b[39m 0.5.1\n",
      "\n",
      "-- \u001b[1mConflicts\u001b[22m ------------------------------------------ tidyverse_conflicts() --\n",
      "\u001b[31mx\u001b[39m \u001b[34mdplyr\u001b[39m::\u001b[32mfilter()\u001b[39m masks \u001b[34mstats\u001b[39m::filter()\n",
      "\u001b[31mx\u001b[39m \u001b[34mdplyr\u001b[39m::\u001b[32mlag()\u001b[39m    masks \u001b[34mstats\u001b[39m::lag()\n",
      "\n"
     ]
    },
    {
     "data": {
      "text/html": [
       "<table class=\"dataframe\">\n",
       "<caption>A tibble: 10 × 4</caption>\n",
       "<thead>\n",
       "\t<tr><th scope=col>a</th><th scope=col>b</th><th scope=col>c</th><th scope=col>d</th></tr>\n",
       "\t<tr><th scope=col>&lt;dbl&gt;</th><th scope=col>&lt;dbl&gt;</th><th scope=col>&lt;dbl&gt;</th><th scope=col>&lt;dbl&gt;</th></tr>\n",
       "</thead>\n",
       "<tbody>\n",
       "\t<tr><td> 0.59845259</td><td> 0.24042315</td><td>-0.01506699</td><td> 1.42382858</td></tr>\n",
       "\t<tr><td> 0.43292318</td><td> 0.24179866</td><td>-2.56230682</td><td>-1.55659208</td></tr>\n",
       "\t<tr><td> 1.70479823</td><td>-0.97632247</td><td> 0.67464091</td><td> 0.39335033</td></tr>\n",
       "\t<tr><td>-0.01777891</td><td> 0.28230403</td><td>-0.54838911</td><td> 1.79711574</td></tr>\n",
       "\t<tr><td> 0.79048960</td><td> 1.17100742</td><td> 0.10582818</td><td>-0.18221786</td></tr>\n",
       "\t<tr><td>-0.21796354</td><td> 0.78092101</td><td>-2.03585067</td><td>-0.87295347</td></tr>\n",
       "\t<tr><td>-0.58618025</td><td> 1.06858076</td><td> 1.34521285</td><td> 0.37098229</td></tr>\n",
       "\t<tr><td>-0.22016637</td><td>-0.58660607</td><td>-0.62424124</td><td> 1.66790583</td></tr>\n",
       "\t<tr><td> 1.51289360</td><td>-0.90701675</td><td>-0.08893197</td><td>-0.49260547</td></tr>\n",
       "\t<tr><td> 0.67192919</td><td>-0.01552998</td><td> 0.97248662</td><td> 0.08698339</td></tr>\n",
       "</tbody>\n",
       "</table>\n"
      ],
      "text/latex": [
       "A tibble: 10 × 4\n",
       "\\begin{tabular}{llll}\n",
       " a & b & c & d\\\\\n",
       " <dbl> & <dbl> & <dbl> & <dbl>\\\\\n",
       "\\hline\n",
       "\t  0.59845259 &  0.24042315 & -0.01506699 &  1.42382858\\\\\n",
       "\t  0.43292318 &  0.24179866 & -2.56230682 & -1.55659208\\\\\n",
       "\t  1.70479823 & -0.97632247 &  0.67464091 &  0.39335033\\\\\n",
       "\t -0.01777891 &  0.28230403 & -0.54838911 &  1.79711574\\\\\n",
       "\t  0.79048960 &  1.17100742 &  0.10582818 & -0.18221786\\\\\n",
       "\t -0.21796354 &  0.78092101 & -2.03585067 & -0.87295347\\\\\n",
       "\t -0.58618025 &  1.06858076 &  1.34521285 &  0.37098229\\\\\n",
       "\t -0.22016637 & -0.58660607 & -0.62424124 &  1.66790583\\\\\n",
       "\t  1.51289360 & -0.90701675 & -0.08893197 & -0.49260547\\\\\n",
       "\t  0.67192919 & -0.01552998 &  0.97248662 &  0.08698339\\\\\n",
       "\\end{tabular}\n"
      ],
      "text/markdown": [
       "\n",
       "A tibble: 10 × 4\n",
       "\n",
       "| a &lt;dbl&gt; | b &lt;dbl&gt; | c &lt;dbl&gt; | d &lt;dbl&gt; |\n",
       "|---|---|---|---|\n",
       "|  0.59845259 |  0.24042315 | -0.01506699 |  1.42382858 |\n",
       "|  0.43292318 |  0.24179866 | -2.56230682 | -1.55659208 |\n",
       "|  1.70479823 | -0.97632247 |  0.67464091 |  0.39335033 |\n",
       "| -0.01777891 |  0.28230403 | -0.54838911 |  1.79711574 |\n",
       "|  0.79048960 |  1.17100742 |  0.10582818 | -0.18221786 |\n",
       "| -0.21796354 |  0.78092101 | -2.03585067 | -0.87295347 |\n",
       "| -0.58618025 |  1.06858076 |  1.34521285 |  0.37098229 |\n",
       "| -0.22016637 | -0.58660607 | -0.62424124 |  1.66790583 |\n",
       "|  1.51289360 | -0.90701675 | -0.08893197 | -0.49260547 |\n",
       "|  0.67192919 | -0.01552998 |  0.97248662 |  0.08698339 |\n",
       "\n"
      ],
      "text/plain": [
       "   a           b           c           d          \n",
       "1   0.59845259  0.24042315 -0.01506699  1.42382858\n",
       "2   0.43292318  0.24179866 -2.56230682 -1.55659208\n",
       "3   1.70479823 -0.97632247  0.67464091  0.39335033\n",
       "4  -0.01777891  0.28230403 -0.54838911  1.79711574\n",
       "5   0.79048960  1.17100742  0.10582818 -0.18221786\n",
       "6  -0.21796354  0.78092101 -2.03585067 -0.87295347\n",
       "7  -0.58618025  1.06858076  1.34521285  0.37098229\n",
       "8  -0.22016637 -0.58660607 -0.62424124  1.66790583\n",
       "9   1.51289360 -0.90701675 -0.08893197 -0.49260547\n",
       "10  0.67192919 -0.01552998  0.97248662  0.08698339"
      ]
     },
     "metadata": {},
     "output_type": "display_data"
    }
   ],
   "source": [
    "library(tidyverse)\n",
    "df <- tibble(\n",
    "  a = rnorm(10),\n",
    "  b = rnorm(10),\n",
    "  c = rnorm(10),\n",
    "  d = rnorm(10)\n",
    ")\n",
    "df\n"
   ]
  },
  {
   "cell_type": "markdown",
   "metadata": {},
   "source": [
    "+ 首先一列列计算各列的中位数"
   ]
  },
  {
   "cell_type": "code",
   "execution_count": 3,
   "metadata": {
    "vscode": {
     "languageId": "r"
    }
   },
   "outputs": [
    {
     "data": {
      "text/html": [
       "0.515687885664403"
      ],
      "text/latex": [
       "0.515687885664403"
      ],
      "text/markdown": [
       "0.515687885664403"
      ],
      "text/plain": [
       "[1] 0.5156879"
      ]
     },
     "metadata": {},
     "output_type": "display_data"
    },
    {
     "data": {
      "text/html": [
       "0.241110903781218"
      ],
      "text/latex": [
       "0.241110903781218"
      ],
      "text/markdown": [
       "0.241110903781218"
      ],
      "text/plain": [
       "[1] 0.2411109"
      ]
     },
     "metadata": {},
     "output_type": "display_data"
    },
    {
     "data": {
      "text/html": [
       "-0.051999478231406"
      ],
      "text/latex": [
       "-0.051999478231406"
      ],
      "text/markdown": [
       "-0.051999478231406"
      ],
      "text/plain": [
       "[1] -0.05199948"
      ]
     },
     "metadata": {},
     "output_type": "display_data"
    },
    {
     "data": {
      "text/html": [
       "0.228982838773501"
      ],
      "text/latex": [
       "0.228982838773501"
      ],
      "text/markdown": [
       "0.228982838773501"
      ],
      "text/plain": [
       "[1] 0.2289828"
      ]
     },
     "metadata": {},
     "output_type": "display_data"
    }
   ],
   "source": [
    "median(df$a)\n",
    "median(df$b)\n",
    "median(df$c)\n",
    "median(df$d)"
   ]
  },
  {
   "cell_type": "markdown",
   "metadata": {},
   "source": [
    "+ 纯手动，麻烦，借用循环："
   ]
  },
  {
   "cell_type": "code",
   "execution_count": 4,
   "metadata": {
    "vscode": {
     "languageId": "r"
    }
   },
   "outputs": [
    {
     "data": {
      "text/html": [
       "<style>\n",
       ".list-inline {list-style: none; margin:0; padding: 0}\n",
       ".list-inline>li {display: inline-block}\n",
       ".list-inline>li:not(:last-child)::after {content: \"\\00b7\"; padding: 0 .5ex}\n",
       "</style>\n",
       "<ol class=list-inline><li>0.515687885664403</li><li>0.241110903781218</li><li>-0.051999478231406</li><li>0.228982838773501</li></ol>\n"
      ],
      "text/latex": [
       "\\begin{enumerate*}\n",
       "\\item 0.515687885664403\n",
       "\\item 0.241110903781218\n",
       "\\item -0.051999478231406\n",
       "\\item 0.228982838773501\n",
       "\\end{enumerate*}\n"
      ],
      "text/markdown": [
       "1. 0.515687885664403\n",
       "2. 0.241110903781218\n",
       "3. -0.051999478231406\n",
       "4. 0.228982838773501\n",
       "\n",
       "\n"
      ],
      "text/plain": [
       "[1]  0.51568789  0.24111090 -0.05199948  0.22898284"
      ]
     },
     "metadata": {},
     "output_type": "display_data"
    }
   ],
   "source": [
    "output <- vector(\"double\",ncol(df))\n",
    "for (i in seq_along(df)) {\n",
    "    output[[i]] <- median(df[[i]])\n",
    "}\n",
    "output"
   ]
  },
  {
   "cell_type": "markdown",
   "metadata": {},
   "source": [
    "+ 看一下`1:length(y)`和`seq_along(y)`的区别"
   ]
  },
  {
   "cell_type": "code",
   "execution_count": 26,
   "metadata": {
    "vscode": {
     "languageId": "r"
    }
   },
   "outputs": [
    {
     "name": "stdout",
     "output_type": "stream",
     "text": [
      "integer(0)\n"
     ]
    }
   ],
   "source": [
    "y <- vector(\"double\",0)\n",
    "print(seq_along(y))"
   ]
  },
  {
   "cell_type": "code",
   "execution_count": 27,
   "metadata": {
    "vscode": {
     "languageId": "r"
    }
   },
   "outputs": [
    {
     "name": "stdout",
     "output_type": "stream",
     "text": [
      "[1] 1 0\n"
     ]
    }
   ],
   "source": [
    "print(1:length(y))"
   ]
  },
  {
   "cell_type": "markdown",
   "metadata": {},
   "source": [
    "+ 观察以下循环"
   ]
  },
  {
   "cell_type": "code",
   "execution_count": 28,
   "metadata": {
    "vscode": {
     "languageId": "r"
    }
   },
   "outputs": [],
   "source": [
    "out <- \"\"\n",
    "for (x in letters) {\n",
    "  out <- stringr::str_c(out, x)\n",
    "}\n",
    "out\n",
    "\n",
    "x <- sample(100)\n",
    "sd <- 0\n",
    "for (i in seq_along(x)) {\n",
    "  sd <- sd + (x[i] - mean(x)) ^ 2\n",
    "}\n",
    "sd\n",
    "sd <- sqrt(sd / (length(x) - 1))\n",
    "sd\n",
    "\n",
    "x <- runif(10)\n",
    "x\n",
    "out <- vector(\"numeric\", length(x))\n",
    "out\n",
    "out[1] <- x[1]\n",
    "for (i in 2:length(x)) {\n",
    "  out[i] <- out[i - 1] + x[i]\n",
    "}\n",
    "\n",
    "rescale01 <- function(x) {\n",
    "  rng <- range(x, na.rm = TRUE)    # range取出最大值和最小值\n",
    "  (x - rng[1]) / (rng[2] - rng[1])\n",
    "}\n",
    "df$a <- rescale01(df$a)\n",
    "a <- 1\n"
   ]
  },
  {
   "cell_type": "markdown",
   "metadata": {},
   "source": [
    "+ 两种循环方式\n",
    "  + 遍历对象中的元素:有两种\n",
    "    + 对元素遍历 :`for (x in df)`\n",
    "    + 对变量名遍历:`for (name in names(df))`\n",
    "  + 整数遍历:`for (i in seq_along(df))`"
   ]
  },
  {
   "cell_type": "code",
   "execution_count": 5,
   "metadata": {
    "vscode": {
     "languageId": "r"
    }
   },
   "outputs": [
    {
     "name": "stdout",
     "output_type": "stream",
     "text": [
      " num [1:137] 1.271 -0.997 0.695 -1.002 0.595 ...\n"
     ]
    }
   ],
   "source": [
    "means <- c(0, 1, 2)\n",
    "\n",
    "output <- double()\n",
    "for (i in seq_along(means)) {\n",
    "  n <- sample(100, 1)\n",
    "  output <- c(output, rnorm(n, means[[i]]))\n",
    "}\n",
    "str(output)\n"
   ]
  },
  {
   "cell_type": "markdown",
   "metadata": {},
   "source": [
    "+ 上面是随机生成三列个数不等的数据框,循环没有效率,因为每次迭代中R都要从之前的迭代中赋值所有数据,多要多出几倍的时间;\n",
    "+ 换个思路:将结果保存在一个列表中,然后循环完成后再将其合并为一个单一的数据框:"
   ]
  },
  {
   "cell_type": "code",
   "execution_count": null,
   "metadata": {
    "vscode": {
     "languageId": "r"
    }
   },
   "outputs": [],
   "source": [
    "out <- vector(\"list\", length(means))\n",
    "for (i in seq_along(means)) {\n",
    "  n <- sample(100, 1)\n",
    "  out[[i]] <- rnorm(n, means[[i]])\n",
    "}\n",
    "str(out)\n",
    "out[1]\n",
    "out[[1]]\n",
    "out[[1]][1]\n"
   ]
  },
  {
   "cell_type": "markdown",
   "metadata": {},
   "source": [
    "## 三、函数式编程"
   ]
  },
  {
   "cell_type": "code",
   "execution_count": 15,
   "metadata": {
    "vscode": {
     "languageId": "r"
    }
   },
   "outputs": [
    {
     "data": {
      "text/html": [
       "<style>\n",
       ".list-inline {list-style: none; margin:0; padding: 0}\n",
       ".list-inline>li {display: inline-block}\n",
       ".list-inline>li:not(:last-child)::after {content: \"\\00b7\"; padding: 0 .5ex}\n",
       "</style>\n",
       "<ol class=list-inline><li>0.0775388733095488</li><li>-0.209799765960181</li><li>0.0864535808573906</li><li>-0.0211947038740182</li></ol>\n"
      ],
      "text/latex": [
       "\\begin{enumerate*}\n",
       "\\item 0.0775388733095488\n",
       "\\item -0.209799765960181\n",
       "\\item 0.0864535808573906\n",
       "\\item -0.0211947038740182\n",
       "\\end{enumerate*}\n"
      ],
      "text/markdown": [
       "1. 0.0775388733095488\n",
       "2. -0.209799765960181\n",
       "3. 0.0864535808573906\n",
       "4. -0.0211947038740182\n",
       "\n",
       "\n"
      ],
      "text/plain": [
       "[1]  0.07753887 -0.20979977  0.08645358 -0.02119470"
      ]
     },
     "metadata": {},
     "output_type": "display_data"
    },
    {
     "data": {
      "text/html": [
       "<style>\n",
       ".list-inline {list-style: none; margin:0; padding: 0}\n",
       ".list-inline>li {display: inline-block}\n",
       ".list-inline>li:not(:last-child)::after {content: \"\\00b7\"; padding: 0 .5ex}\n",
       "</style>\n",
       "<ol class=list-inline><li>0.0775388733095488</li><li>-0.209799765960181</li><li>0.0864535808573906</li><li>-0.0211947038740182</li></ol>\n"
      ],
      "text/latex": [
       "\\begin{enumerate*}\n",
       "\\item 0.0775388733095488\n",
       "\\item -0.209799765960181\n",
       "\\item 0.0864535808573906\n",
       "\\item -0.0211947038740182\n",
       "\\end{enumerate*}\n"
      ],
      "text/markdown": [
       "1. 0.0775388733095488\n",
       "2. -0.209799765960181\n",
       "3. 0.0864535808573906\n",
       "4. -0.0211947038740182\n",
       "\n",
       "\n"
      ],
      "text/plain": [
       "[1]  0.07753887 -0.20979977  0.08645358 -0.02119470"
      ]
     },
     "metadata": {},
     "output_type": "display_data"
    }
   ],
   "source": [
    "# 首先生成一个数据框\n",
    "df <- tibble(\n",
    "  a = rnorm(10),\n",
    "  b = rnorm(10),\n",
    "  c = rnorm(10),\n",
    "  d = rnorm(10)\n",
    ")\n",
    "# 使用循环计算各列均值\n",
    "output <- vector(\"double\", length(df))\n",
    "for (i in seq_along(df)) {\n",
    "    output[[i]]  <- mean(df[[i]])\n",
    "}\n",
    "output\n",
    "# 可以将上面的过程函数化，来设计一个专门计算数据框各列均值的函数：\n",
    "# 函数参数是数据框，返回结果是各列的均值：\n",
    "col_mean <- function(df) {\n",
    "  output <- vector(\"double\", length(df))\n",
    "  for (i in seq_along(df)) {\n",
    "    output[[i]]  <- mean(df[[i]])\n",
    "  }\n",
    "output\n",
    "}\n",
    "col_mean(df)\n",
    "# 如果计算中位数、标准差等，则直接修改对应的函数即可，但是要复制修改多个函数；"
   ]
  },
  {
   "cell_type": "markdown",
   "metadata": {},
   "source": [
    "+ 此时可以使用函数式编程"
   ]
  },
  {
   "cell_type": "code",
   "execution_count": 8,
   "metadata": {
    "vscode": {
     "languageId": "r"
    }
   },
   "outputs": [
    {
     "data": {
      "text/html": [
       "<style>\n",
       ".list-inline {list-style: none; margin:0; padding: 0}\n",
       ".list-inline>li {display: inline-block}\n",
       ".list-inline>li:not(:last-child)::after {content: \"\\00b7\"; padding: 0 .5ex}\n",
       "</style>\n",
       "<ol class=list-inline><li>-0.108076068563634</li><li>-0.0659093667221405</li><li>-0.109200907369869</li><li>0.309505355250769</li></ol>\n"
      ],
      "text/latex": [
       "\\begin{enumerate*}\n",
       "\\item -0.108076068563634\n",
       "\\item -0.0659093667221405\n",
       "\\item -0.109200907369869\n",
       "\\item 0.309505355250769\n",
       "\\end{enumerate*}\n"
      ],
      "text/markdown": [
       "1. -0.108076068563634\n",
       "2. -0.0659093667221405\n",
       "3. -0.109200907369869\n",
       "4. 0.309505355250769\n",
       "\n",
       "\n"
      ],
      "text/plain": [
       "[1] -0.10807607 -0.06590937 -0.10920091  0.30950536"
      ]
     },
     "metadata": {},
     "output_type": "display_data"
    },
    {
     "data": {
      "text/html": [
       "<style>\n",
       ".list-inline {list-style: none; margin:0; padding: 0}\n",
       ".list-inline>li {display: inline-block}\n",
       ".list-inline>li:not(:last-child)::after {content: \"\\00b7\"; padding: 0 .5ex}\n",
       "</style>\n",
       "<ol class=list-inline><li>-0.525954612711783</li><li>-0.153427462303832</li><li>0.429002594483041</li><li>0.527170497142069</li></ol>\n"
      ],
      "text/latex": [
       "\\begin{enumerate*}\n",
       "\\item -0.525954612711783\n",
       "\\item -0.153427462303832\n",
       "\\item 0.429002594483041\n",
       "\\item 0.527170497142069\n",
       "\\end{enumerate*}\n"
      ],
      "text/markdown": [
       "1. -0.525954612711783\n",
       "2. -0.153427462303832\n",
       "3. 0.429002594483041\n",
       "4. 0.527170497142069\n",
       "\n",
       "\n"
      ],
      "text/plain": [
       "[1] -0.5259546 -0.1534275  0.4290026  0.5271705"
      ]
     },
     "metadata": {},
     "output_type": "display_data"
    }
   ],
   "source": [
    "col_summary <- function(df, fun) {\n",
    "  out <- vector(\"double\", length(df))\n",
    "  for (i in seq_along(df)) {\n",
    "    out[i] <- fun(df[[i]])\n",
    "  }\n",
    "  out\n",
    "}\n",
    "col_summary(df, mean)\n",
    "col_summary(df, median) # 将函数作为参数输入；\n"
   ]
  },
  {
   "cell_type": "markdown",
   "metadata": {},
   "source": [
    "## 四、The Map functions\n",
    "+ map() makes a list.\n",
    "+ map_lgl() makes a logical vector.\n",
    "+ map_int() makes an integer vector.\n",
    "+ map_dbl() makes a double vector.\n",
    "+ map_chr() makes a character vector.\n",
    "+ 每一个函数将向量作为输入，函数作用于每一个元素，然后返回一个新向量，和输入一样长度；"
   ]
  },
  {
   "cell_type": "code",
   "execution_count": 16,
   "metadata": {
    "vscode": {
     "languageId": "r"
    }
   },
   "outputs": [
    {
     "data": {
      "text/html": [
       "<style>\n",
       ".dl-inline {width: auto; margin:0; padding: 0}\n",
       ".dl-inline>dt, .dl-inline>dd {float: none; width: auto; display: inline-block}\n",
       ".dl-inline>dt::after {content: \":\\0020\"; padding-right: .5ex}\n",
       ".dl-inline>dt:not(:first-of-type) {padding-left: .5ex}\n",
       "</style><dl class=dl-inline><dt>a</dt><dd>0.0775388733095488</dd><dt>b</dt><dd>-0.209799765960181</dd><dt>c</dt><dd>0.0864535808573906</dd><dt>d</dt><dd>-0.0211947038740182</dd></dl>\n"
      ],
      "text/latex": [
       "\\begin{description*}\n",
       "\\item[a] 0.0775388733095488\n",
       "\\item[b] -0.209799765960181\n",
       "\\item[c] 0.0864535808573906\n",
       "\\item[d] -0.0211947038740182\n",
       "\\end{description*}\n"
      ],
      "text/markdown": [
       "a\n",
       ":   0.0775388733095488b\n",
       ":   -0.209799765960181c\n",
       ":   0.0864535808573906d\n",
       ":   -0.0211947038740182\n",
       "\n"
      ],
      "text/plain": [
       "          a           b           c           d \n",
       " 0.07753887 -0.20979977  0.08645358 -0.02119470 "
      ]
     },
     "metadata": {},
     "output_type": "display_data"
    },
    {
     "data": {
      "text/html": [
       "<style>\n",
       ".dl-inline {width: auto; margin:0; padding: 0}\n",
       ".dl-inline>dt, .dl-inline>dd {float: none; width: auto; display: inline-block}\n",
       ".dl-inline>dt::after {content: \":\\0020\"; padding-right: .5ex}\n",
       ".dl-inline>dt:not(:first-of-type) {padding-left: .5ex}\n",
       "</style><dl class=dl-inline><dt>a</dt><dd>0.535954030607189</dd><dt>b</dt><dd>0.16121148686248</dd><dt>c</dt><dd>0.23922864485761</dd><dt>d</dt><dd>-0.0600937854337649</dd></dl>\n"
      ],
      "text/latex": [
       "\\begin{description*}\n",
       "\\item[a] 0.535954030607189\n",
       "\\item[b] 0.16121148686248\n",
       "\\item[c] 0.23922864485761\n",
       "\\item[d] -0.0600937854337649\n",
       "\\end{description*}\n"
      ],
      "text/markdown": [
       "a\n",
       ":   0.535954030607189b\n",
       ":   0.16121148686248c\n",
       ":   0.23922864485761d\n",
       ":   -0.0600937854337649\n",
       "\n"
      ],
      "text/plain": [
       "          a           b           c           d \n",
       " 0.53595403  0.16121149  0.23922864 -0.06009379 "
      ]
     },
     "metadata": {},
     "output_type": "display_data"
    },
    {
     "data": {
      "text/html": [
       "<style>\n",
       ".dl-inline {width: auto; margin:0; padding: 0}\n",
       ".dl-inline>dt, .dl-inline>dd {float: none; width: auto; display: inline-block}\n",
       ".dl-inline>dt::after {content: \":\\0020\"; padding-right: .5ex}\n",
       ".dl-inline>dt:not(:first-of-type) {padding-left: .5ex}\n",
       "</style><dl class=dl-inline><dt>a</dt><dd>1.17977955212756</dd><dt>b</dt><dd>1.14633079139211</dd><dt>c</dt><dd>0.893597967343256</dd><dt>d</dt><dd>0.993348234857453</dd></dl>\n"
      ],
      "text/latex": [
       "\\begin{description*}\n",
       "\\item[a] 1.17977955212756\n",
       "\\item[b] 1.14633079139211\n",
       "\\item[c] 0.893597967343256\n",
       "\\item[d] 0.993348234857453\n",
       "\\end{description*}\n"
      ],
      "text/markdown": [
       "a\n",
       ":   1.17977955212756b\n",
       ":   1.14633079139211c\n",
       ":   0.893597967343256d\n",
       ":   0.993348234857453\n",
       "\n"
      ],
      "text/plain": [
       "        a         b         c         d \n",
       "1.1797796 1.1463308 0.8935980 0.9933482 "
      ]
     },
     "metadata": {},
     "output_type": "display_data"
    }
   ],
   "source": [
    "map_dbl(df, mean)\n",
    "map_dbl(df, median)\n",
    "map_dbl(df, sd)"
   ]
  },
  {
   "cell_type": "markdown",
   "metadata": {},
   "source": [
    "+ 此时我么不需要关注循环以及怎么存储结果等，而只需要关注里面的操作符，使用管道符的时候更加明显；"
   ]
  },
  {
   "cell_type": "code",
   "execution_count": 17,
   "metadata": {
    "vscode": {
     "languageId": "r"
    }
   },
   "outputs": [
    {
     "data": {
      "text/html": [
       "<style>\n",
       ".dl-inline {width: auto; margin:0; padding: 0}\n",
       ".dl-inline>dt, .dl-inline>dd {float: none; width: auto; display: inline-block}\n",
       ".dl-inline>dt::after {content: \":\\0020\"; padding-right: .5ex}\n",
       ".dl-inline>dt:not(:first-of-type) {padding-left: .5ex}\n",
       "</style><dl class=dl-inline><dt>a</dt><dd>0.0775388733095488</dd><dt>b</dt><dd>-0.209799765960181</dd><dt>c</dt><dd>0.0864535808573906</dd><dt>d</dt><dd>-0.0211947038740182</dd></dl>\n"
      ],
      "text/latex": [
       "\\begin{description*}\n",
       "\\item[a] 0.0775388733095488\n",
       "\\item[b] -0.209799765960181\n",
       "\\item[c] 0.0864535808573906\n",
       "\\item[d] -0.0211947038740182\n",
       "\\end{description*}\n"
      ],
      "text/markdown": [
       "a\n",
       ":   0.0775388733095488b\n",
       ":   -0.209799765960181c\n",
       ":   0.0864535808573906d\n",
       ":   -0.0211947038740182\n",
       "\n"
      ],
      "text/plain": [
       "          a           b           c           d \n",
       " 0.07753887 -0.20979977  0.08645358 -0.02119470 "
      ]
     },
     "metadata": {},
     "output_type": "display_data"
    },
    {
     "data": {
      "text/html": [
       "<style>\n",
       ".dl-inline {width: auto; margin:0; padding: 0}\n",
       ".dl-inline>dt, .dl-inline>dd {float: none; width: auto; display: inline-block}\n",
       ".dl-inline>dt::after {content: \":\\0020\"; padding-right: .5ex}\n",
       ".dl-inline>dt:not(:first-of-type) {padding-left: .5ex}\n",
       "</style><dl class=dl-inline><dt>a</dt><dd>0.535954030607189</dd><dt>b</dt><dd>0.16121148686248</dd><dt>c</dt><dd>0.23922864485761</dd><dt>d</dt><dd>-0.0600937854337649</dd></dl>\n"
      ],
      "text/latex": [
       "\\begin{description*}\n",
       "\\item[a] 0.535954030607189\n",
       "\\item[b] 0.16121148686248\n",
       "\\item[c] 0.23922864485761\n",
       "\\item[d] -0.0600937854337649\n",
       "\\end{description*}\n"
      ],
      "text/markdown": [
       "a\n",
       ":   0.535954030607189b\n",
       ":   0.16121148686248c\n",
       ":   0.23922864485761d\n",
       ":   -0.0600937854337649\n",
       "\n"
      ],
      "text/plain": [
       "          a           b           c           d \n",
       " 0.53595403  0.16121149  0.23922864 -0.06009379 "
      ]
     },
     "metadata": {},
     "output_type": "display_data"
    }
   ],
   "source": [
    "df %>% map_dbl(mean)\n",
    "df %>% map_dbl(median)"
   ]
  },
  {
   "cell_type": "markdown",
   "metadata": {},
   "source": [
    "+ 第二个参数是要应用的函数，它可以是公式、字符向量或整数向量；"
   ]
  },
  {
   "cell_type": "code",
   "execution_count": 28,
   "metadata": {
    "vscode": {
     "languageId": "r"
    }
   },
   "outputs": [
    {
     "data": {
      "text/html": [
       "<style>\n",
       ".dl-inline {width: auto; margin:0; padding: 0}\n",
       ".dl-inline>dt, .dl-inline>dd {float: none; width: auto; display: inline-block}\n",
       ".dl-inline>dt::after {content: \":\\0020\"; padding-right: .5ex}\n",
       ".dl-inline>dt:not(:first-of-type) {padding-left: .5ex}\n",
       "</style><dl class=dl-inline><dt>a</dt><dd>0.0775388733095488</dd><dt>b</dt><dd>-0.209799765960181</dd><dt>c</dt><dd>0.0864535808573906</dd><dt>d</dt><dd>-0.0211947038740182</dd></dl>\n"
      ],
      "text/latex": [
       "\\begin{description*}\n",
       "\\item[a] 0.0775388733095488\n",
       "\\item[b] -0.209799765960181\n",
       "\\item[c] 0.0864535808573906\n",
       "\\item[d] -0.0211947038740182\n",
       "\\end{description*}\n"
      ],
      "text/markdown": [
       "a\n",
       ":   0.0775388733095488b\n",
       ":   -0.209799765960181c\n",
       ":   0.0864535808573906d\n",
       ":   -0.0211947038740182\n",
       "\n"
      ],
      "text/plain": [
       "          a           b           c           d \n",
       " 0.07753887 -0.20979977  0.08645358 -0.02119470 "
      ]
     },
     "metadata": {},
     "output_type": "display_data"
    },
    {
     "data": {
      "text/html": [
       "<style>\n",
       ".dl-inline {width: auto; margin:0; padding: 0}\n",
       ".dl-inline>dt, .dl-inline>dd {float: none; width: auto; display: inline-block}\n",
       ".dl-inline>dt::after {content: \":\\0020\"; padding-right: .5ex}\n",
       ".dl-inline>dt:not(:first-of-type) {padding-left: .5ex}\n",
       "</style><dl class=dl-inline><dt>a</dt><dd>0.535954030607189</dd><dt>b</dt><dd>0.16121148686248</dd><dt>c</dt><dd>0.23922864485761</dd><dt>d</dt><dd>-0.0600937854337649</dd></dl>\n"
      ],
      "text/latex": [
       "\\begin{description*}\n",
       "\\item[a] 0.535954030607189\n",
       "\\item[b] 0.16121148686248\n",
       "\\item[c] 0.23922864485761\n",
       "\\item[d] -0.0600937854337649\n",
       "\\end{description*}\n"
      ],
      "text/markdown": [
       "a\n",
       ":   0.535954030607189b\n",
       ":   0.16121148686248c\n",
       ":   0.23922864485761d\n",
       ":   -0.0600937854337649\n",
       "\n"
      ],
      "text/plain": [
       "          a           b           c           d \n",
       " 0.53595403  0.16121149  0.23922864 -0.06009379 "
      ]
     },
     "metadata": {},
     "output_type": "display_data"
    }
   ],
   "source": [
    "map_dbl(df, mean)\n",
    "map_dbl(df, mean, trim = 0.5)"
   ]
  },
  {
   "cell_type": "code",
   "execution_count": 29,
   "metadata": {
    "vscode": {
     "languageId": "r"
    }
   },
   "outputs": [
    {
     "data": {
      "text/html": [
       "<style>\n",
       ".dl-inline {width: auto; margin:0; padding: 0}\n",
       ".dl-inline>dt, .dl-inline>dd {float: none; width: auto; display: inline-block}\n",
       ".dl-inline>dt::after {content: \":\\0020\"; padding-right: .5ex}\n",
       ".dl-inline>dt:not(:first-of-type) {padding-left: .5ex}\n",
       "</style><dl class=dl-inline><dt>x</dt><dd>3</dd><dt>y</dt><dd>2</dd></dl>\n"
      ],
      "text/latex": [
       "\\begin{description*}\n",
       "\\item[x] 3\n",
       "\\item[y] 2\n",
       "\\end{description*}\n"
      ],
      "text/markdown": [
       "x\n",
       ":   3y\n",
       ":   2\n",
       "\n"
      ],
      "text/plain": [
       "x y \n",
       "3 2 "
      ]
     },
     "metadata": {},
     "output_type": "display_data"
    }
   ],
   "source": [
    "z <- list(x = 1:3, y = 4:5)\n",
    "map_int(z, length)"
   ]
  },
  {
   "cell_type": "markdown",
   "metadata": {},
   "source": [
    "+ 快捷方式"
   ]
  },
  {
   "cell_type": "code",
   "execution_count": 31,
   "metadata": {
    "vscode": {
     "languageId": "r"
    }
   },
   "outputs": [],
   "source": [
    "models <- mtcars %>%\n",
    "  split(.$cyl) %>%\n",
    "  map(function(df) lm(mpg ~ wt, data = df)) #都是用同一个式子进行回归， "
   ]
  },
  {
   "cell_type": "code",
   "execution_count": 33,
   "metadata": {
    "vscode": {
     "languageId": "r"
    }
   },
   "outputs": [],
   "source": [
    "models <- mtcars %>% \n",
    "  split(.$cyl) %>% \n",
    "  map(~lm(mpg ~ wt, data = .)) # 这里用. 代表传入参数，用~后输入表达式"
   ]
  },
  {
   "cell_type": "code",
   "execution_count": 38,
   "metadata": {
    "vscode": {
     "languageId": "r"
    }
   },
   "outputs": [
    {
     "data": {
      "text/html": [
       "<style>\n",
       ".dl-inline {width: auto; margin:0; padding: 0}\n",
       ".dl-inline>dt, .dl-inline>dd {float: none; width: auto; display: inline-block}\n",
       ".dl-inline>dt::after {content: \":\\0020\"; padding-right: .5ex}\n",
       ".dl-inline>dt:not(:first-of-type) {padding-left: .5ex}\n",
       "</style><dl class=dl-inline><dt>4</dt><dd>0.50863259632314</dd><dt>6</dt><dd>0.464510150550548</dd><dt>8</dt><dd>0.422965536496111</dd></dl>\n"
      ],
      "text/latex": [
       "\\begin{description*}\n",
       "\\item[4] 0.50863259632314\n",
       "\\item[6] 0.464510150550548\n",
       "\\item[8] 0.422965536496111\n",
       "\\end{description*}\n"
      ],
      "text/markdown": [
       "4\n",
       ":   0.508632596323146\n",
       ":   0.4645101505505488\n",
       ":   0.422965536496111\n",
       "\n"
      ],
      "text/plain": [
       "        4         6         8 \n",
       "0.5086326 0.4645102 0.4229655 "
      ]
     },
     "metadata": {},
     "output_type": "display_data"
    },
    {
     "data": {
      "text/html": [
       "<style>\n",
       ".dl-inline {width: auto; margin:0; padding: 0}\n",
       ".dl-inline>dt, .dl-inline>dd {float: none; width: auto; display: inline-block}\n",
       ".dl-inline>dt::after {content: \":\\0020\"; padding-right: .5ex}\n",
       ".dl-inline>dt:not(:first-of-type) {padding-left: .5ex}\n",
       "</style><dl class=dl-inline><dt>4</dt><dd>0.50863259632314</dd><dt>6</dt><dd>0.464510150550548</dd><dt>8</dt><dd>0.422965536496111</dd></dl>\n"
      ],
      "text/latex": [
       "\\begin{description*}\n",
       "\\item[4] 0.50863259632314\n",
       "\\item[6] 0.464510150550548\n",
       "\\item[8] 0.422965536496111\n",
       "\\end{description*}\n"
      ],
      "text/markdown": [
       "4\n",
       ":   0.508632596323146\n",
       ":   0.4645101505505488\n",
       ":   0.422965536496111\n",
       "\n"
      ],
      "text/plain": [
       "        4         6         8 \n",
       "0.5086326 0.4645102 0.4229655 "
      ]
     },
     "metadata": {},
     "output_type": "display_data"
    }
   ],
   "source": [
    "models %>% map(summary) %>% map_dbl(~.$r.squared)\n",
    "models %>% map(summary) %>% map_dbl(\"r.squared\")"
   ]
  },
  {
   "cell_type": "markdown",
   "metadata": {},
   "source": [
    "+ 使用位置参数"
   ]
  },
  {
   "cell_type": "code",
   "execution_count": 39,
   "metadata": {
    "vscode": {
     "languageId": "r"
    }
   },
   "outputs": [
    {
     "data": {
      "text/html": [
       "<style>\n",
       ".list-inline {list-style: none; margin:0; padding: 0}\n",
       ".list-inline>li {display: inline-block}\n",
       ".list-inline>li:not(:last-child)::after {content: \"\\00b7\"; padding: 0 .5ex}\n",
       "</style>\n",
       "<ol class=list-inline><li>2</li><li>5</li><li>8</li></ol>\n"
      ],
      "text/latex": [
       "\\begin{enumerate*}\n",
       "\\item 2\n",
       "\\item 5\n",
       "\\item 8\n",
       "\\end{enumerate*}\n"
      ],
      "text/markdown": [
       "1. 2\n",
       "2. 5\n",
       "3. 8\n",
       "\n",
       "\n"
      ],
      "text/plain": [
       "[1] 2 5 8"
      ]
     },
     "metadata": {},
     "output_type": "display_data"
    }
   ],
   "source": [
    "x <- list(list(1, 2, 3), list(4, 5, 6), list(7, 8, 9))\n",
    "x %>% map_dbl(2)"
   ]
  }
 ],
 "metadata": {
  "kernelspec": {
   "display_name": "R",
   "language": "R",
   "name": "ir"
  },
  "language_info": {
   "codemirror_mode": {
    "name": "ipython",
    "version": 3
   },
   "file_extension": ".py",
   "mimetype": "text/x-python",
   "name": "R",
   "nbconvert_exporter": "python",
   "pygments_lexer": "ipython3",
   "version": "3.9.7"
  },
  "orig_nbformat": 4
 },
 "nbformat": 4,
 "nbformat_minor": 2
}
