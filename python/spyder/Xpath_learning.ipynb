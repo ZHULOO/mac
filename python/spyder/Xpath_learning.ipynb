{
 "metadata": {
  "language_info": {
   "codemirror_mode": {
    "name": "ipython",
    "version": 3
   },
   "file_extension": ".py",
   "mimetype": "text/x-python",
   "name": "python",
   "nbconvert_exporter": "python",
   "pygments_lexer": "ipython3",
   "version": "3.8.3-final"
  },
  "orig_nbformat": 2,
  "kernelspec": {
   "name": "python3",
   "display_name": "Python 3.8.3 64-bit ('ProgramData': virtualenv)",
   "metadata": {
    "interpreter": {
     "hash": "b3ba2566441a7c06988d0923437866b63cedc61552a5af99d1f4fb67d367b25f"
    }
   }
  }
 },
 "nbformat": 4,
 "nbformat_minor": 2,
 "cells": [
  {
   "source": [
    "## 对比磁盘路径表达式,xpath选择节点的操作类似；\n",
    "+ /   从根节点选取；\n",
    "+ //  从任意位置选取；\n",
    "+ .   选取当前节点\n",
    "+ ..  选取当前节点的父节点；\n",
    "+ @   选取属性。"
   ],
   "cell_type": "markdown",
   "metadata": {}
  },
  {
   "source": [
    "## xml示例:\n",
    "from lxml import etree\n",
    "text = '''\n",
    "<book>\n",
    "<title>Harry Potter</title>\n",
    "<author>J K.Rowling</author>\n",
    "<year>2005</year>\n",
    "<price>29.99</price>\n",
    "</book>\n",
    "'''"
   ],
   "cell_type": "code",
   "metadata": {},
   "execution_count": 4,
   "outputs": []
  },
  {
   "source": [
    "# 使用xpath获取元素，返回的结果一定是列表：\n",
    "tree = etree.fromstring(text)\n",
    "book = tree.xpath(\"/book\")\n",
    "print(book)\n",
    "print(type(book))"
   ],
   "cell_type": "code",
   "metadata": {},
   "execution_count": null,
   "outputs": []
  },
  {
   "cell_type": "code",
   "execution_count": 25,
   "metadata": {},
   "outputs": [
    {
     "output_type": "execute_result",
     "data": {
      "text/plain": [
       "'title'"
      ]
     },
     "metadata": {},
     "execution_count": 25
    }
   ],
   "source": [
    "# 获取book元素下的title子元素：\n",
    "t1 = book[0].xpath(\"./title\")\n",
    "t1[0].tag\n"
   ]
  },
  {
   "cell_type": "code",
   "execution_count": 26,
   "metadata": {},
   "outputs": [
    {
     "output_type": "execute_result",
     "data": {
      "text/plain": [
       "'title'"
      ]
     },
     "metadata": {},
     "execution_count": 26
    }
   ],
   "source": [
    "# 或者：\n",
    "t2 = tree.xpath(\"/book/title\")\n",
    "t2[0].tag"
   ]
  },
  {
   "cell_type": "code",
   "execution_count": 27,
   "metadata": {},
   "outputs": [
    {
     "output_type": "execute_result",
     "data": {
      "text/plain": [
       "'year'"
      ]
     },
     "metadata": {},
     "execution_count": 27
    }
   ],
   "source": [
    "# 从title节点获取year节点：\n",
    "y1 = t1[0].xpath(\"../year\")\n",
    "y1[0].tag"
   ]
  },
  {
   "cell_type": "code",
   "execution_count": 28,
   "metadata": {},
   "outputs": [
    {
     "output_type": "execute_result",
     "data": {
      "text/plain": [
       "'price'"
      ]
     },
     "metadata": {},
     "execution_count": 28
    }
   ],
   "source": [
    "# 从任意位置获取price节点：\n",
    "p1 = tree.xpath(\"//price\")\n",
    "p1[0].tag"
   ]
  },
  {
   "cell_type": "code",
   "execution_count": 29,
   "metadata": {},
   "outputs": [
    {
     "output_type": "stream",
     "name": "stdout",
     "text": [
      "book\ntitle\nauthor\nyear\nprice\n"
     ]
    }
   ],
   "source": [
    "# 从任意位置获取所有节点：\n",
    "all1 = tree.xpath(\"//*\")\n",
    "for i in all1:\n",
    "    print(i.tag)"
   ]
  },
  {
   "cell_type": "code",
   "execution_count": 30,
   "metadata": {},
   "outputs": [
    {
     "output_type": "stream",
     "name": "stdout",
     "text": [
      "title\nauthor\nyear\nprice\n"
     ]
    }
   ],
   "source": [
    "# 获取book节点下的所有子节点：\n",
    "book_son = tree.xpath(\"/book/*\")\n",
    "for son in book_son:\n",
    "    print(son.tag)"
   ]
  },
  {
   "source": [
    "## 文本内容与文本节点\n",
    "### 打开文件有两种方法：\n",
    "+ 1.找到文件所在路径'E:\\Course\\spyder'，然后打开'xml示例.xml'；\n",
    "+ 2.直接输入带路径的文件名打开'E:\\Course\\spyder\\xml示例.xml'；"
   ],
   "cell_type": "markdown",
   "metadata": {}
  },
  {
   "cell_type": "code",
   "execution_count": 32,
   "metadata": {},
   "outputs": [
    {
     "output_type": "execute_result",
     "data": {
      "text/plain": [
       "'Harry Potter'"
      ]
     },
     "metadata": {},
     "execution_count": 32
    }
   ],
   "source": [
    "# 相当于第一种打开文件的方法：先定位到title节点，再打开它的text属性；\n",
    "tree.xpath(\"/book/title\")[0].text"
   ]
  },
  {
   "cell_type": "code",
   "execution_count": 33,
   "metadata": {},
   "outputs": [
    {
     "output_type": "execute_result",
     "data": {
      "text/plain": [
       "['Harry Potter']"
      ]
     },
     "metadata": {},
     "execution_count": 33
    }
   ],
   "source": [
    "# 相当于第二种打开文件的方法：直接输入带路径的文件名，打开了text属性；\n",
    "tree.xpath(\"/book/title/text()\")"
   ]
  },
  {
   "cell_type": "code",
   "execution_count": 34,
   "metadata": {},
   "outputs": [
    {
     "output_type": "execute_result",
     "data": {
      "text/plain": [
       "['\\n', 'Harry Potter', '\\n', 'J K.Rowling', '\\n', '2005', '\\n', '29.99', '\\n']"
      ]
     },
     "metadata": {},
     "execution_count": 34
    }
   ],
   "source": [
    "# 获取所有的文本节点：\n",
    "all_text = tree.xpath(\"//text()\")\n",
    "all_text # 出现了很多\"\\n\"：相当于获取了book元素节点下的\"\\n\"也给获取了；"
   ]
  },
  {
   "cell_type": "code",
   "execution_count": 35,
   "metadata": {},
   "outputs": [
    {
     "output_type": "execute_result",
     "data": {
      "text/plain": [
       "['Harry Potter', 'J K.Rowling', '2005', '29.99']"
      ]
     },
     "metadata": {},
     "execution_count": 35
    }
   ],
   "source": [
    "# 获取book元素所有子元素的文本节点：\n",
    "son_text = tree.xpath(\"/book/*/text()\")\n",
    "son_text # 此时就没有\"\\n\"了；"
   ]
  },
  {
   "source": [
    "## 获取所有节点包括：\n",
    "+ 元素节点\n",
    "+ 文本节点"
   ],
   "cell_type": "markdown",
   "metadata": {}
  },
  {
   "cell_type": "code",
   "execution_count": 37,
   "metadata": {},
   "outputs": [
    {
     "output_type": "stream",
     "name": "stdout",
     "text": [
      "[<Element book at 0x1a598eeedc0>, '\\n', <Element title at 0x1a598ee52c0>, 'Harry Potter', '\\n', <Element author at 0x1a599326500>, 'J K.Rowling', '\\n', <Element year at 0x1a5992f2240>, '2005', '\\n', <Element price at 0x1a5990a8540>, '29.99', '\\n']\n<Element book at 0x1a598eeedc0>\n\n\n<Element title at 0x1a598ee52c0>\nHarry Potter\n\n\n<Element author at 0x1a599326500>\nJ K.Rowling\n\n\n<Element year at 0x1a5992f2240>\n2005\n\n\n<Element price at 0x1a5990a8540>\n29.99\n\n\n"
     ]
    }
   ],
   "source": [
    "# 获取所有节点用node()方法：\n",
    "all_nodes = tree.xpath(\"//node()\")\n",
    "print(all_nodes)\n",
    "for node in all_nodes:\n",
    "    print(node)"
   ]
  },
  {
   "cell_type": "code",
   "execution_count": 40,
   "metadata": {},
   "outputs": [
    {
     "output_type": "execute_result",
     "data": {
      "text/plain": [
       "['姓名', '职务', '起始日期', '终止日期']"
      ]
     },
     "metadata": {},
     "execution_count": 40
    }
   ],
   "source": [
    "from lxml import etree\n",
    "text = '''\n",
    "<table id=\"cominfo\" width=\"100%\" id=\"Table1\">\n",
    "    <tbody>\n",
    "        <tr>\n",
    "            <td class=\"ct\" width=\"25%\"><div align=\"center\"><strong>姓名</strong></div></td>\n",
    "            <td class=\"ct\" width=\"25%\"><div align=\"center\"><strong>职务</strong></div></td>\n",
    "            <td class=\"ct\" width=\"25%\"><div align=\"center\"><strong>起始日期</strong></div></td>\n",
    "            <td class=\"ct\" ><div align=\"center\"><strong>终止日期</strong></div></td>\n",
    "        </tr>\n",
    "    </tbody>\n",
    "</table>\n",
    "'''\n",
    "tree = etree.HTML(text)\n",
    "text_list = tree.xpath(\"//strong/text()\")\n",
    "text_list"
   ]
  },
  {
   "source": [
    "## XPath路径表达式例2：属性\n",
    "### 找到属性值："
   ],
   "cell_type": "markdown",
   "metadata": {}
  },
  {
   "cell_type": "code",
   "execution_count": 57,
   "metadata": {},
   "outputs": [
    {
     "output_type": "execute_result",
     "data": {
      "text/plain": [
       "[<Element book at 0x1a596b42400>, <Element book at 0x1a596b42b40>]"
      ]
     },
     "metadata": {},
     "execution_count": 57
    }
   ],
   "source": [
    "text = '''\n",
    "<bookstore>\n",
    "    <book category=\"Fantasy Novels\">\n",
    "        <title lang=\"English\">Harry Potter</title>\n",
    "        <title lang=\"zhongwen\">哈利波特</title>\n",
    "        <author>J K.Rowling</author>\n",
    "        <year>2005</year>\n",
    "        <price>29.99</price>\n",
    "    </book>\n",
    "    <book category=\"武侠小说\">\n",
    "        <title lang=\"中文\">天龙八部</title>\n",
    "        <title lang=\"pingying\">tianlongbabu</title>\n",
    "        <author>金庸</author>\n",
    "        <year>2006</year>\n",
    "        <price>40</price>\n",
    "    </book>\n",
    "</bookstore>\n",
    "'''\n",
    "# 将字符串内容转换为Element对象：\n",
    "tree = etree.fromstring(text)\n",
    "book = tree.xpath(\"//book\")\n",
    "book"
   ]
  },
  {
   "cell_type": "code",
   "execution_count": 58,
   "metadata": {},
   "outputs": [
    {
     "output_type": "execute_result",
     "data": {
      "text/plain": [
       "['武侠小说']"
      ]
     },
     "metadata": {},
     "execution_count": 58
    }
   ],
   "source": [
    "# 获取第二个book元素的category属性\n",
    "category = book[1].xpath(\"./@category\")\n",
    "category"
   ]
  },
  {
   "cell_type": "code",
   "execution_count": 59,
   "metadata": {},
   "outputs": [
    {
     "output_type": "execute_result",
     "data": {
      "text/plain": [
       "['Fantasy Novels', '武侠小说']"
      ]
     },
     "metadata": {},
     "execution_count": 59
    }
   ],
   "source": [
    "# 获取所有book元素的category属性\n",
    "category_list = tree.xpath(\"//book/@category\")\n",
    "category_list"
   ]
  },
  {
   "cell_type": "code",
   "execution_count": 53,
   "metadata": {},
   "outputs": [
    {
     "output_type": "execute_result",
     "data": {
      "text/plain": [
       "['武侠小说']"
      ]
     },
     "metadata": {},
     "execution_count": 53
    }
   ],
   "source": [
    "category2 = tree.xpath(\"//book[2]/@category\") # 这里的2和列表索引中的2不一样，这里就是指第二个book元素节点；\n",
    "category"
   ]
  },
  {
   "cell_type": "code",
   "execution_count": 60,
   "metadata": {},
   "outputs": [
    {
     "output_type": "execute_result",
     "data": {
      "text/plain": [
       "['English', 'zhongwen', '中文', 'pingying']"
      ]
     },
     "metadata": {},
     "execution_count": 60
    }
   ],
   "source": [
    "# 获取lang属性的属性值\n",
    "lang = tree.xpath(\"//title/@lang\")\n",
    "lang "
   ]
  },
  {
   "cell_type": "code",
   "execution_count": 61,
   "metadata": {},
   "outputs": [
    {
     "output_type": "execute_result",
     "data": {
      "text/plain": [
       "['English', '中文']"
      ]
     },
     "metadata": {},
     "execution_count": 61
    }
   ],
   "source": [
    "# 注意:这里的1是指所有节点下的第一个title节点的lang属性，\n",
    "lang = tree.xpath(\"//title[1]/@lang\")\n",
    "lang"
   ]
  },
  {
   "cell_type": "code",
   "execution_count": 62,
   "metadata": {},
   "outputs": [
    {
     "output_type": "execute_result",
     "data": {
      "text/plain": [
       "['zhongwen', 'pingying']"
      ]
     },
     "metadata": {},
     "execution_count": 62
    }
   ],
   "source": [
    "# 遍历所有节点下的第二个title下的lang属性，而不是把所有title放到一起的第二个title；\n",
    "lang2 = tree.xpath(\"//title[2]/@lang\")\n",
    "lang2"
   ]
  },
  {
   "source": [
    "## 根据属性值定位"
   ],
   "cell_type": "markdown",
   "metadata": {}
  },
  {
   "cell_type": "code",
   "execution_count": 66,
   "metadata": {},
   "outputs": [
    {
     "output_type": "stream",
     "name": "stdout",
     "text": [
      "['中文', 'pingying']\n['English', 'zhongwen', '中文', 'pingying']\n"
     ]
    }
   ],
   "source": [
    "# 获取category属性为“武侠小说”的book元素的title元素的lang属性：\n",
    "lang1 = tree.xpath(\"//book[@category='武侠小说']/title/@lang\")\n",
    "print(lang1)\n",
    "# 方括号表示限定属性值category='武侠小说'的book元素。\n",
    "# 还可以获取具有category属性的book元素：\n",
    "lang2 = tree.xpath(\"//book[@category]/title/@lang\")\n",
    "print(lang2)"
   ]
  },
  {
   "cell_type": "code",
   "execution_count": 68,
   "metadata": {},
   "outputs": [
    {
     "output_type": "stream",
     "name": "stdout",
     "text": [
      "book\ntitle\ntitle\nbook\ntitle\ntitle\n"
     ]
    }
   ],
   "source": [
    "# 获取所有具有属性的元素\n",
    "all_att = tree.xpath(\"//*[@*]\")\n",
    "for att in all_att:\n",
    "    print(att.tag)"
   ]
  },
  {
   "source": [
    "# 总结：三种节点\n",
    "+ 元素节点：类比于磁盘中的文件夹；\n",
    "+ 文本节点：相当于文件夹中的文件；\n",
    "+ 属性节点\n",
    "# 文本内容和文本节点的区别："
   ],
   "cell_type": "markdown",
   "metadata": {}
  },
  {
   "source": [
    "## XPath运算符"
   ],
   "cell_type": "markdown",
   "metadata": {}
  },
  {
   "cell_type": "code",
   "execution_count": null,
   "metadata": {},
   "outputs": [],
   "source": []
  }
 ]
}